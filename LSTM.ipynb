{
 "cells": [
  {
   "cell_type": "markdown",
   "metadata": {},
   "source": [
    "------------\n",
    "# Importing Necessary Libraries"
   ]
  },
  {
   "cell_type": "code",
   "execution_count": 7,
   "metadata": {},
   "outputs": [
    {
     "name": "stdout",
     "output_type": "stream",
     "text": [
      "[name: \"/device:CPU:0\"\n",
      "device_type: \"CPU\"\n",
      "memory_limit: 268435456\n",
      "locality {\n",
      "}\n",
      "incarnation: 11527558509558409719\n",
      "]\n"
     ]
    }
   ],
   "source": [
    "import numpy as np\n",
    "import pandas as pd\n",
    "import matplotlib.pyplot as plt\n",
    "import os\n",
    "import keras\n",
    "\n",
    "import tensorflow as tf\n",
    "\n",
    "from keras import models, layers\n",
    "\n",
    "from tensorflow.python.client import device_lib\n",
    "\n",
    "print(device_lib.list_local_devices())\n",
    "config = tf.ConfigProto( device_count = {'GPU': 1} ) \n",
    "sess = tf.Session(config=config) \n",
    "keras.backend.set_session(sess)"
   ]
  },
  {
   "cell_type": "markdown",
   "metadata": {},
   "source": [
    "---------------\n",
    "# Loading Data into System"
   ]
  },
  {
   "cell_type": "code",
   "execution_count": 13,
   "metadata": {},
   "outputs": [],
   "source": [
    "x_lstm_train = np.load(os.path.join('data', 'x_lstm_train.npy'))\n",
    "x_lstm_val = np.load(os.path.join('data', 'x_lstm_val.npy'))\n",
    "\n",
    "x_static_train = np.load(os.path.join('data', 'x_static_train.npy'))\n",
    "x_static_val = np.load(os.path.join('data', 'x_static_val.npy'))\n",
    "\n",
    "y_train = np.load(os.path.join('data', 'y_train.npy'))\n",
    "y_val = np.load(os.path.join('data', 'y_val.npy'))"
   ]
  },
  {
   "cell_type": "code",
   "execution_count": 14,
   "metadata": {},
   "outputs": [
    {
     "name": "stdout",
     "output_type": "stream",
     "text": [
      "(31857, 48) (7965, 48)\n",
      "(31857, 13) (7965, 13)\n",
      "(31857,) (7965,)\n"
     ]
    }
   ],
   "source": [
    "print(x_lstm_train.shape, x_lstm_val.shape)\n",
    "print(x_static_train.shape, x_static_val.shape)\n",
    "print(y_train.shape, y_val.shape)"
   ]
  },
  {
   "cell_type": "code",
   "execution_count": null,
   "metadata": {},
   "outputs": [],
   "source": []
  },
  {
   "cell_type": "markdown",
   "metadata": {},
   "source": [
    "# Re-Structuring the data"
   ]
  },
  {
   "cell_type": "code",
   "execution_count": 15,
   "metadata": {},
   "outputs": [],
   "source": [
    "x_lstm_train = np.expand_dims(x_lstm_train, axis=-1)\n",
    "x_lstm_val = np.expand_dims(x_lstm_val, axis=-1)\n",
    "\n",
    "x_static_train = np.expand_dims(x_static_train, axis=-1)\n",
    "x_staic_val = np.expand_dims(x_static_val, axis=-1)\n",
    "\n",
    "y_train = np.expand_dims(y_train, axis=-1)\n",
    "y_val = np.expand_dims(y_val, axis=-1)"
   ]
  },
  {
   "cell_type": "code",
   "execution_count": 16,
   "metadata": {},
   "outputs": [
    {
     "name": "stdout",
     "output_type": "stream",
     "text": [
      "(31857, 48, 1) (7965, 48, 1)\n",
      "(31857, 13, 1) (7965, 13)\n",
      "(31857, 1) (7965, 1)\n"
     ]
    }
   ],
   "source": [
    "print(x_lstm_train.shape, x_lstm_val.shape)\n",
    "print(x_static_train.shape, x_static_val.shape)\n",
    "print(y_train.shape, y_val.shape)"
   ]
  },
  {
   "cell_type": "code",
   "execution_count": null,
   "metadata": {},
   "outputs": [],
   "source": []
  },
  {
   "cell_type": "markdown",
   "metadata": {},
   "source": [
    "# Model Creation"
   ]
  },
  {
   "cell_type": "code",
   "execution_count": null,
   "metadata": {},
   "outputs": [],
   "source": []
  }
 ],
 "metadata": {
  "kernelspec": {
   "display_name": "Python 3",
   "language": "python",
   "name": "python3"
  },
  "language_info": {
   "codemirror_mode": {
    "name": "ipython",
    "version": 3
   },
   "file_extension": ".py",
   "mimetype": "text/x-python",
   "name": "python",
   "nbconvert_exporter": "python",
   "pygments_lexer": "ipython3",
   "version": "3.7.7"
  }
 },
 "nbformat": 4,
 "nbformat_minor": 4
}
