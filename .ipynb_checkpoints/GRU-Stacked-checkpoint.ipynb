{
 "cells": [
  {
   "cell_type": "markdown",
   "metadata": {},
   "source": [
    "------------\n",
    "# Importing Necessary Libraries"
   ]
  },
  {
   "cell_type": "code",
   "execution_count": 2,
   "metadata": {},
   "outputs": [],
   "source": [
    "import numpy as np\n",
    "import pandas as pd\n",
    "import matplotlib.pyplot as plt\n",
    "import os\n",
    "import keras\n",
    "import tensorflow as tf\n",
    "import pickle\n",
    "\n",
    "from tensorflow.keras import models, layers\n",
    "from tensorflow.keras.callbacks import ModelCheckpoint\n",
    "from tensorflow.python.client import device_lib\n",
    "from sklearn.preprocessing import StandardScaler\n",
    "\n",
    "from ipynb.fs.full.PreProcessing import get_moving_diff, rescaling, get_static_features"
   ]
  },
  {
   "cell_type": "code",
   "execution_count": 3,
   "metadata": {},
   "outputs": [
    {
     "name": "stdout",
     "output_type": "stream",
     "text": [
      "[name: \"/device:CPU:0\"\n",
      "device_type: \"CPU\"\n",
      "memory_limit: 268435456\n",
      "locality {\n",
      "}\n",
      "incarnation: 15899080260373340960\n",
      "]\n"
     ]
    }
   ],
   "source": [
    "print(device_lib.list_local_devices())\n",
    "config = tf.ConfigProto( device_count = {'GPU': 1} ) \n",
    "sess = tf.Session(config=config) \n",
    "keras.backend.set_session(sess)"
   ]
  },
  {
   "cell_type": "markdown",
   "metadata": {},
   "source": [
    "---------------\n",
    "# Loading Data into System"
   ]
  },
  {
   "cell_type": "code",
   "execution_count": 4,
   "metadata": {},
   "outputs": [],
   "source": [
    "x_lstm_train = np.load(os.path.join('data', 'x_lstm_train.npy'))\n",
    "x_lstm_test = np.load(os.path.join('data', 'x_lstm_test.npy'))\n",
    "\n",
    "x_static_train = np.load(os.path.join('data', 'x_static_train.npy'))\n",
    "x_static_test = np.load(os.path.join('data', 'x_static_test.npy'))\n",
    "\n",
    "y_train = np.load(os.path.join('data', 'y_train.npy'))\n",
    "y_test = np.load(os.path.join('data', 'y_test.npy'))"
   ]
  },
  {
   "cell_type": "code",
   "execution_count": 5,
   "metadata": {},
   "outputs": [
    {
     "name": "stdout",
     "output_type": "stream",
     "text": [
      "(35776, 120) (8944, 120)\n",
      "(35776, 9) (8944, 9)\n",
      "(35776, 6) (8944, 6)\n"
     ]
    }
   ],
   "source": [
    "print(x_lstm_train.shape, x_lstm_test.shape)\n",
    "print(x_static_train.shape, x_static_test.shape)\n",
    "print(y_train.shape, y_test.shape)"
   ]
  },
  {
   "cell_type": "code",
   "execution_count": null,
   "metadata": {},
   "outputs": [],
   "source": []
  },
  {
   "cell_type": "markdown",
   "metadata": {},
   "source": [
    "# Re-Structuring the data"
   ]
  },
  {
   "cell_type": "code",
   "execution_count": 6,
   "metadata": {},
   "outputs": [],
   "source": [
    "x_lstm_train = np.expand_dims(x_lstm_train, axis=-1)\n",
    "x_lstm_test = np.expand_dims(x_lstm_test, axis=-1)\n",
    "\n",
    "x_static_train = np.expand_dims(x_static_train, axis=-1)\n",
    "x_static_test = np.expand_dims(x_static_test, axis=-1)"
   ]
  },
  {
   "cell_type": "code",
   "execution_count": 7,
   "metadata": {},
   "outputs": [
    {
     "name": "stdout",
     "output_type": "stream",
     "text": [
      "(35776, 120, 1) (8944, 120, 1)\n",
      "(35776, 9, 1) (8944, 9, 1)\n",
      "(35776, 6) (8944, 6)\n"
     ]
    }
   ],
   "source": [
    "print(x_lstm_train.shape, x_lstm_test.shape)\n",
    "print(x_static_train.shape, x_static_test.shape)\n",
    "print(y_train.shape, y_test.shape)"
   ]
  },
  {
   "cell_type": "code",
   "execution_count": null,
   "metadata": {},
   "outputs": [],
   "source": []
  },
  {
   "cell_type": "markdown",
   "metadata": {},
   "source": [
    "# Model Creation"
   ]
  },
  {
   "cell_type": "code",
   "execution_count": 8,
   "metadata": {},
   "outputs": [],
   "source": [
    "def r_square(y_true, y_pred):\n",
    "    from keras import backend as K\n",
    "    SS_res =  K.sum(K.square(y_true - y_pred)) \n",
    "    SS_tot = K.sum(K.square(y_true - K.mean(y_true))) \n",
    "    return ( 1 - SS_res/(SS_tot + K.epsilon()) )"
   ]
  },
  {
   "cell_type": "code",
   "execution_count": 9,
   "metadata": {},
   "outputs": [
    {
     "name": "stdout",
     "output_type": "stream",
     "text": [
      "WARNING:tensorflow:From c:\\users\\yrvak\\appdata\\local\\programs\\python\\python37\\lib\\site-packages\\keras\\backend\\tensorflow_backend.py:66: The name tf.get_default_graph is deprecated. Please use tf.compat.v1.get_default_graph instead.\n",
      "\n",
      "WARNING:tensorflow:From c:\\users\\yrvak\\appdata\\local\\programs\\python\\python37\\lib\\site-packages\\tensorflow_core\\python\\ops\\resource_variable_ops.py:1630: calling BaseResourceVariable.__init__ (from tensorflow.python.ops.resource_variable_ops) with constraint is deprecated and will be removed in a future version.\n",
      "Instructions for updating:\n",
      "If using Keras pass *_constraint arguments to layers.\n",
      "Model: \"model\"\n",
      "_________________________________________________________________\n",
      "Layer (type)                 Output Shape              Param #   \n",
      "=================================================================\n",
      "input_1 (InputLayer)         [(None, 120, 1)]          0         \n",
      "_________________________________________________________________\n",
      "gru (GRU)                    [(None, 120, 120), (None, 43920     \n",
      "_________________________________________________________________\n",
      "dropout (Dropout)            (None, 120, 120)          0         \n",
      "_________________________________________________________________\n",
      "gru_1 (GRU)                  [(None, 120, 120), (None, 86760     \n",
      "_________________________________________________________________\n",
      "dropout_1 (Dropout)          (None, 120)               0         \n",
      "_________________________________________________________________\n",
      "dense (Dense)                (None, 48)                5808      \n",
      "_________________________________________________________________\n",
      "dropout_2 (Dropout)          (None, 48)                0         \n",
      "_________________________________________________________________\n",
      "dense_1 (Dense)              (None, 6)                 294       \n",
      "=================================================================\n",
      "Total params: 136,782\n",
      "Trainable params: 136,782\n",
      "Non-trainable params: 0\n",
      "_________________________________________________________________\n"
     ]
    }
   ],
   "source": [
    "# 32, 16, 30 \n",
    "model = keras.Sequential()\n",
    "\n",
    "lstm_input = layers.Input(shape=(x_lstm_train.shape[1], x_lstm_train.shape[2]))\n",
    "\n",
    "lstm_stack_1, lstm_stack_1_c = layers.GRU(120, return_sequences=True, return_state=True)(lstm_input)\n",
    "drop_lstm_1 = layers.Dropout(0.05)(lstm_stack_1)\n",
    "\n",
    "lstm_stack_2, lstm_stack_2_c = layers.GRU(120, return_sequences=True, return_state=True)(drop_lstm_1)\n",
    "\n",
    "drop_2 = layers.Dropout(0.05)(lstm_stack_2_c)\n",
    "dense_2 = layers.Dense(48)(drop_2)\n",
    "drop_4 = layers.Dropout(0.02)(dense_2)\n",
    "\n",
    "output = layers.Dense(6)(drop_4)\n",
    "\n",
    "\n",
    "model = models.Model(inputs=lstm_input, outputs=output)\n",
    "model.summary()\n",
    "model.compile(\n",
    "    loss='mse', \n",
    "    optimizer='adam', \n",
    "    metrics=[r_square,'mae']\n",
    ")"
   ]
  },
  {
   "cell_type": "code",
   "execution_count": 11,
   "metadata": {},
   "outputs": [
    {
     "name": "stdout",
     "output_type": "stream",
     "text": [
      "Train on 35776 samples, validate on 8944 samples\n",
      "Epoch 1/5\n",
      "35760/35776 [============================>.] - ETA: 0s - loss: 9.2315e-04 - r_square: 0.0738 - mean_absolute_error: 0.0170\n",
      "Epoch 00001: saving model to model_gru_stacked-001.h5\n",
      "35776/35776 [==============================] - 595s 17ms/sample - loss: 9.2303e-04 - r_square: 0.0739 - mean_absolute_error: 0.0170 - val_loss: 6.3019e-04 - val_r_square: 0.1113 - val_mean_absolute_error: 0.0154\n",
      "Epoch 2/5\n",
      "35760/35776 [============================>.] - ETA: 0s - loss: 9.1435e-04 - r_square: 0.0816 - mean_absolute_error: 0.0169\n",
      "Epoch 00002: saving model to model_gru_stacked-002.h5\n",
      "35776/35776 [==============================] - 657s 18ms/sample - loss: 9.1415e-04 - r_square: 0.0818 - mean_absolute_error: 0.0169 - val_loss: 6.4753e-04 - val_r_square: 0.0868 - val_mean_absolute_error: 0.0157\n",
      "Epoch 3/5\n",
      "35760/35776 [============================>.] - ETA: 0s - loss: 9.2043e-04 - r_square: 0.0867 - mean_absolute_error: 0.0169\n",
      "Epoch 00003: saving model to model_gru_stacked-003.h5\n",
      "35776/35776 [==============================] - 524s 15ms/sample - loss: 9.2031e-04 - r_square: 0.0866 - mean_absolute_error: 0.0169 - val_loss: 6.5586e-04 - val_r_square: 0.0686 - val_mean_absolute_error: 0.0159\n",
      "Epoch 4/5\n",
      "35760/35776 [============================>.] - ETA: 0s - loss: 9.1490e-04 - r_square: 0.0844 - mean_absolute_error: 0.0169\n",
      "Epoch 00004: saving model to model_gru_stacked-004.h5\n",
      "35776/35776 [==============================] - 405s 11ms/sample - loss: 9.1463e-04 - r_square: 0.0846 - mean_absolute_error: 0.0169 - val_loss: 6.2099e-04 - val_r_square: 0.1358 - val_mean_absolute_error: 0.0150\n",
      "Epoch 5/5\n",
      "35760/35776 [============================>.] - ETA: 0s - loss: 8.9941e-04 - r_square: 0.1025 - mean_absolute_error: 0.0168\n",
      "Epoch 00005: saving model to model_gru_stacked-005.h5\n",
      "35776/35776 [==============================] - 324s 9ms/sample - loss: 8.9937e-04 - r_square: 0.1026 - mean_absolute_error: 0.0168 - val_loss: 6.1404e-04 - val_r_square: 0.1417 - val_mean_absolute_error: 0.0148\n"
     ]
    }
   ],
   "source": [
    "filepath = \"model_gru_stacked-{epoch:03d}.h5\"\n",
    "checkpoint = ModelCheckpoint(filepath, monitor='r_square', verbose=1,\n",
    "    save_best_only=False, save_weights_only = True, mode='auto', period=1)\n",
    "\n",
    "history = model.fit(\n",
    "    x_lstm_train, y_train,\n",
    "    epochs=5,\n",
    "    batch_size=48,\n",
    "    verbose=1,\n",
    "    validation_data=(x_lstm_test, y_test),\n",
    "    shuffle=True,\n",
    "    callbacks=[checkpoint]\n",
    ")"
   ]
  },
  {
   "cell_type": "code",
   "execution_count": null,
   "metadata": {},
   "outputs": [],
   "source": []
  },
  {
   "cell_type": "code",
   "execution_count": 12,
   "metadata": {},
   "outputs": [
    {
     "name": "stdout",
     "output_type": "stream",
     "text": [
      "dict_keys(['loss', 'r_square', 'mean_absolute_error', 'val_loss', 'val_r_square', 'val_mean_absolute_error'])\n"
     ]
    },
    {
     "data": {
      "text/plain": [
       "[<matplotlib.lines.Line2D at 0x28e1e896348>]"
      ]
     },
     "execution_count": 12,
     "metadata": {},
     "output_type": "execute_result"
    },
    {
     "data": {
      "image/png": "[encoded data removed]",
      "text/plain": [
       "<Figure size 720x144 with 2 Axes>"
      ]
     },
     "metadata": {
      "needs_background": "light"
     },
     "output_type": "display_data"
    },
    {
     "data": {
      "image/png": "[encoded data removed]",
      "text/plain": [
       "<Figure size 720x144 with 2 Axes>"
      ]
     },
     "metadata": {
      "needs_background": "light"
     },
     "output_type": "display_data"
    },
    {
     "data": {
      "image/png": "[encoded data removed]",
      "text/plain": [
       "<Figure size 720x144 with 2 Axes>"
      ]
     },
     "metadata": {
      "needs_background": "light"
     },
     "output_type": "display_data"
    }
   ],
   "source": [
    "print(history.history.keys())\n",
    "\n",
    "fig1, (ax1, ax2) = plt.subplots(1, 2, figsize=(10,2))\n",
    "fig1.suptitle('Mean Squared Error')\n",
    "ax1.plot(history.history['loss'])\n",
    "ax2.plot(history.history['val_loss'])\n",
    "\n",
    "fig2, (ax1, ax2) = plt.subplots(1, 2, figsize=(10,2))\n",
    "fig2.suptitle('Mean Absolute Error')\n",
    "ax1.plot(history.history['mean_absolute_error'])\n",
    "ax2.plot(history.history['val_mean_absolute_error'])\n",
    "\n",
    "fig3, (ax1, ax2) = plt.subplots(1, 2, figsize=(10,2))\n",
    "fig3.suptitle('R Squared')\n",
    "ax1.plot(history.history['r_square'])\n",
    "ax2.plot(history.history['val_r_square'])"
   ]
  },
  {
   "cell_type": "code",
   "execution_count": null,
   "metadata": {},
   "outputs": [],
   "source": []
  },
  {
   "cell_type": "code",
   "execution_count": null,
   "metadata": {},
   "outputs": [],
   "source": [
    "model.save(os.path.join('data','model_gru_stacked.h5'))"
   ]
  },
  {
   "cell_type": "code",
   "execution_count": null,
   "metadata": {},
   "outputs": [],
   "source": []
  },
  {
   "cell_type": "markdown",
   "metadata": {},
   "source": [
    "# Testing Prediction sequence"
   ]
  },
  {
   "cell_type": "code",
   "execution_count": 13,
   "metadata": {},
   "outputs": [],
   "source": [
    "cgm_df = pd.read_csv(os.path.join('data','CGMData.csv')).T"
   ]
  },
  {
   "cell_type": "code",
   "execution_count": 14,
   "metadata": {},
   "outputs": [
    {
     "data": {
      "text/plain": [
       "array([[143., 145., 146., 146., 147., 149., 150., 155., 163., 167., 169.,\n",
       "        170., 171., 173., 180., 187., 190., 182., 177., 173., 161., 153.,\n",
       "        143., 140., 141., 139., 140., 142., 130., 110., 110., 112., 117.,\n",
       "        118., 116., 115., 114., 114., 114., 114., 115., 115., 116., 117.,\n",
       "        118., 119., 119., 120., 120., 121., 121., 120., 120., 120., 122.,\n",
       "        123., 123., 123., 122., 123., 124., 125., 126., 126., 125., 124.,\n",
       "        123., 123., 123., 122., 120., 117., 116., 116., 117., 118., 118.,\n",
       "        119., 120., 121., 122., 124., 124., 124., 125., 125., 125., 125.,\n",
       "        124., 122., 121., 119., 118., 119., 123., 132., 139., 142., 144.,\n",
       "        146., 148., 152., 156., 158., 159., 159., 161., 166., 173., 181.,\n",
       "        192., 202., 207., 208., 210., 212., 217., 221., 226., 231., 235.,\n",
       "        239., 241., 244., 241., 239., 235., 228., 221., 213., 205., 199.,\n",
       "        194., 185., 177., 171., 168., 167., 161., 154., 149., 150., 153.,\n",
       "        154., 145., 135., 127., 123., 121., 121., 123., 125., 127., 127.,\n",
       "        128., 130., 133., 133., 128., 125., 120., 118., 123., 123., 118.,\n",
       "        112.,  99.,  93.,  91.,  87.,  90.,  95., 100., 121., 134., 147.,\n",
       "        156., 164., 172., 184., 199., 203., 204., 205., 208., 213., 217.,\n",
       "        213., 206., 200., 195., 193., 188., 185., 181., 176., 169., 158.,\n",
       "        151., 147., 143., 143., 147., 151., 154., 153., 150., 147., 143.,\n",
       "        140., 136., 134., 136., 135., 139., 144., 150., 156., 161., 166.,\n",
       "        170., 169., 166., 161., 156., 154., 156., 159., 161., 163., 162.,\n",
       "        163., 158., 154., 149., 146., 145., 144., 141., 138., 132., 123.,\n",
       "        116., 114., 119., 124., 124., 114., 107., 105., 105., 105., 106.,\n",
       "        108., 110., 107., 101., 101., 102., 113., 115., 114., 116., 116.,\n",
       "        120., 121., 118., 117., 117., 117., 119., 114., 111., 110., 108.,\n",
       "        109., 105., 101.,  99.,  97.,  97.,  98.,  98.,  97.,  97., 100.,\n",
       "         99.,  98.,  97.,  94.,  96.,  98., 100., 102., 102., 102., 105.,\n",
       "        107., 106., 107., 109., 113., 116., 118., 120., 117., 113., 112.,\n",
       "        108., 105., 103., 104., 107., 108., 105., 116., 121., 121., 125.,\n",
       "        132., 141., 145., 143., 140., 142., 144., 150., 154., 156., 157.,\n",
       "        156., 154., 154., 156., 159., 166., 169., 168., 168., 168., 164.,\n",
       "        160., 160., 159., 178., 183., 186., 189., 188., 186., 176., 172.,\n",
       "        171., 172., 175., 176., 178., 176., 171., 168., 164., 161., 159.,\n",
       "        158., 158., 158., 155., 152., 151., 150., 148., 146., 145., 145.,\n",
       "        145., 145., 143., 138., 132., 126., 123., 122., 124., 122., 115.,\n",
       "        109., 105., 102., 103., 103., 100., 100., 100., 101., 102., 101.,\n",
       "         98.,  95.,  91.]])"
      ]
     },
     "execution_count": 14,
     "metadata": {},
     "output_type": "execute_result"
    }
   ],
   "source": [
    "testing_data = cgm_df.T.iloc[:,-400:-1].to_numpy()\n",
    "testing_data"
   ]
  },
  {
   "cell_type": "code",
   "execution_count": null,
   "metadata": {},
   "outputs": [],
   "source": [
    "model.load_weights('model_gru_stacked-113.hdf5')"
   ]
  },
  {
   "cell_type": "code",
   "execution_count": null,
   "metadata": {},
   "outputs": [],
   "source": []
  },
  {
   "cell_type": "code",
   "execution_count": null,
   "metadata": {},
   "outputs": [],
   "source": [
    "scaler = pickle.load((open(os.path.join('data','scaler.pkl'), 'rb')))\n",
    "\n",
    "time_stamps = 100\n",
    "ahead_pred = 48\n",
    "org_lstm = testing_data[:,0:time_stamps]\n",
    "y_ground = testing_data[:,time_stamps:time_stamps+ahead_pred]\n",
    "\n",
    "y_pred = []\n",
    "for i in range(ahead_pred):\n",
    "#    input_lstm = get_moving_diff(org_lstm, replace_na=True)\n",
    "    input_lstm = org_lstm\n",
    "#    input_lstm = np.vectorize(rescaling)(input_lstm)\n",
    "    \n",
    "    input_lstm = np.expand_dims(input_lstm, axis=-1)\n",
    "    \n",
    "    pred = model.predict(input_lstm)[0,0]\n",
    "#     pred = rescaling(pred[0,0], newscale=(-100,100), oldscale=(-1,1))\n",
    "#     pred = org_lstm[:,-1]+pred\n",
    "#     if pred[0] > int(pred[0])+0.5:\n",
    "#         pred[0] = int(pred[0])+1.0\n",
    "#     else:\n",
    "#         pred[0] = int(pred[0])\n",
    "        \n",
    "#     y_pred.append(pred)\n",
    "#     org_lstm = np.concatenate((org_lstm[:,1:], np.expand_dims(pred, axis=0)), axis=-1)\n",
    "\n",
    "#     pred = rescaling(org_lstm[:,-1], newscale=(0,1), oldscale=(20,450)) + pred\n",
    "#     pred = rescaling(pred, newscale=(20,450), oldscale=(0,1))\n",
    "    \n",
    "#     if pred > int(pred)+0.5:\n",
    "#         pred = int(pred)+1.0\n",
    "#     else:\n",
    "#         pred = int(pred)\n",
    "    \n",
    "#     pred = np.reshape(pred, (1,1))\n",
    "#     y_pred.append(pred)\n",
    "#     org_lstm = np.concatenate((org_lstm[:,1:], pred), axis=-1)\n",
    "\n",
    "#    pred = org_lstm[:,-1] + pred\n",
    "    \n",
    "    if pred >= int(pred)+0.5:\n",
    "        pred = int(pred)+1.0\n",
    "    else:\n",
    "        pred = int(pred)+0.0\n",
    "    print(pred)\n",
    "    pred = np.reshape(pred, (1,1))\n",
    "    y_pred.append(pred)\n",
    "    org_lstm = np.concatenate((org_lstm[:,1:], pred), axis=-1)"
   ]
  },
  {
   "cell_type": "code",
   "execution_count": null,
   "metadata": {},
   "outputs": [],
   "source": []
  },
  {
   "cell_type": "code",
   "execution_count": 15,
   "metadata": {},
   "outputs": [
    {
     "name": "stdout",
     "output_type": "stream",
     "text": [
      "[[ 0.01380945  0.00821342  0.00252891 -0.00033111 -0.00158548 -0.00239068]]\n",
      "[232.38094528]\n",
      "[[ 0.00628895  0.00330783 -0.00136156 -0.00241421 -0.00421262 -0.0039837 ]]\n",
      "[232.62889499]\n",
      "[[ 0.00459084  0.00188894 -0.00259136 -0.00339734 -0.00499369 -0.00461548]]\n",
      "[233.45908382]\n",
      "[[ 0.00184729 -0.00010007 -0.00429246 -0.00450599 -0.00607895 -0.0053681 ]]\n",
      "[233.18472871]\n",
      "[[ 0.00095246 -0.00088159 -0.00504979 -0.00510892 -0.00650261 -0.00572443]]\n",
      "[233.09524556]\n",
      "[[ 0.00037261 -0.00137299 -0.00555084 -0.00549587 -0.00674667 -0.00592253]]\n",
      "[233.03726147]\n",
      "[[-5.3934753e-05 -1.7028794e-03 -5.8866311e-03 -5.7455515e-03\n",
      "  -6.8720225e-03 -6.0036010e-03]]\n",
      "[232.99460652]\n",
      "[[-0.00037473 -0.00191831 -0.00609587 -0.00589394 -0.00690781 -0.00599161]]\n",
      "[232.96252689]\n",
      "[[-0.00059196 -0.0020322  -0.00619566 -0.00595779 -0.00686726 -0.0059026 ]]\n",
      "[232.94080393]\n",
      "[[-0.00071107 -0.00205632 -0.00620267 -0.00595045 -0.00676247 -0.00575146]]\n",
      "[232.92889301]\n",
      "[[-0.00074838 -0.00200763 -0.00613618 -0.00588614 -0.00660725 -0.00555254]]\n",
      "[232.92516208]\n",
      "[[-0.00072351 -0.00190413 -0.00601476 -0.00577868 -0.00641504 -0.00531864]]\n",
      "[232.92764895]\n",
      "[[-0.00065305 -0.00176092 -0.00585353 -0.00563969 -0.00619711 -0.00506031]]\n",
      "[232.93469506]\n",
      "[[-0.00054916 -0.0015894  -0.00566399 -0.00547826 -0.00596222 -0.00478596]]\n",
      "[232.94508396]\n",
      "[[-0.00042062 -0.00139806 -0.00545481 -0.00530129 -0.00571704 -0.00450225]]\n",
      "[232.95793807]\n",
      "[[-0.00027427 -0.00119354 -0.00523281 -0.00511427 -0.00546686 -0.00421458]]\n",
      "[232.97257311]\n",
      "[[-0.00011564 -0.00098118 -0.00500348 -0.00492159 -0.00521585 -0.00392727]]\n",
      "[232.98843633]\n",
      "[[ 5.0641596e-05 -7.6535402e-04 -4.7712661e-03 -4.7268169e-03\n",
      "  -4.9673743e-03 -3.6438135e-03]]\n",
      "[233.00506416]\n",
      "[[ 0.00022093 -0.0005494  -0.00453958 -0.00453268 -0.00472389 -0.00336676]]\n",
      "[233.0220933]\n",
      "[[ 0.00039222 -0.00033606 -0.0043112  -0.00434142 -0.0044874  -0.00309819]]\n",
      "[233.03922172]\n",
      "[[ 0.00056206 -0.00012754 -0.00408835 -0.00415486 -0.00425944 -0.0028397 ]]\n",
      "[233.05620581]\n",
      "[[ 7.2871149e-04  7.4672862e-05 -3.8725464e-03 -3.9742165e-03\n",
      "  -4.0409486e-03 -2.5922623e-03]]\n",
      "[233.07287115]\n",
      "[[ 0.00089073  0.00026935 -0.00366502 -0.00380051 -0.00383269 -0.00235665]]\n",
      "[233.08907261]\n",
      "[[ 0.00104711  0.00045571 -0.00346653 -0.00363436 -0.00363503 -0.00213323]]\n",
      "[233.10471104]\n",
      "[[ 0.0011971   0.00063319 -0.00327765 -0.00347624 -0.00344819 -0.0019222 ]]\n",
      "[233.11970983]\n",
      "[[ 0.00134011  0.0008014  -0.00309877 -0.00332646 -0.00327226 -0.00172361]]\n",
      "[233.13401074]\n",
      "[[ 0.00147588  0.00096025 -0.00292993 -0.00318507 -0.00310708 -0.00153725]]\n",
      "[233.14758761]\n",
      "[[ 0.00160424  0.00110974 -0.00277113 -0.00305207 -0.00295242 -0.00136286]]\n",
      "[233.16042374]\n",
      "[[ 0.00172504  0.00124986 -0.00262234 -0.00292743 -0.0028081  -0.0012002 ]]\n",
      "[233.17250405]\n",
      "[[ 0.00183842  0.0013809  -0.00248325 -0.00281091 -0.00267369 -0.00104876]]\n",
      "[233.18384175]\n",
      "[[ 0.00194473  0.00150335 -0.00235332 -0.00270203 -0.00254854 -0.0009078 ]]\n",
      "[233.19447271]\n",
      "[[ 0.00204404  0.00161741 -0.00223233 -0.00260065 -0.00243237 -0.000777  ]]\n",
      "[233.20440379]\n",
      "[[ 0.0021366   0.00172345 -0.0021199  -0.00250641 -0.00232471 -0.00065581]]\n",
      "[233.21365953]\n",
      "[[ 0.00222265  0.00182179 -0.00201564 -0.00241902 -0.00222513 -0.00054374]]\n",
      "[233.22226539]\n",
      "[[ 0.00230251  0.00191285 -0.00191912 -0.00233811 -0.00213314 -0.00044025]]\n",
      "[233.23025146]\n",
      "[[ 0.00237653  0.00199708 -0.00182986 -0.00226328 -0.00204826 -0.00034477]]\n",
      "[233.23765266]\n",
      "[[ 0.00244502  0.00207488 -0.00174744 -0.00219417 -0.00197003 -0.00025678]]\n",
      "[233.24450193]\n",
      "[[ 0.00250831  0.00214666 -0.00167141 -0.00213042 -0.00189799 -0.00017578]]\n",
      "[233.25083143]\n",
      "[[ 0.00256672  0.0022128  -0.00160136 -0.00207168 -0.00183174 -0.0001013 ]]\n",
      "[233.25667245]\n",
      "[[ 2.6205620e-03  2.2736671e-03 -1.5369043e-03 -2.0176249e-03\n",
      "  -1.7708645e-03 -3.2866141e-05]]\n",
      "[233.2620562]\n",
      "[[ 2.6701433e-03  2.3296531e-03 -1.4776340e-03 -1.9679167e-03\n",
      "  -1.7149637e-03  2.9962161e-05]]\n",
      "[233.26701433]\n",
      "[[ 2.7157455e-03  2.3810803e-03 -1.4231912e-03 -1.9222570e-03\n",
      "  -1.6636886e-03  8.7584602e-05]]\n",
      "[233.27157455]\n",
      "[[ 0.00275767  0.0024283  -0.00137321 -0.00188034 -0.00161668  0.00014041]]\n",
      "[233.2757665]\n",
      "[[ 0.00279615  0.00247161 -0.00132738 -0.0018419  -0.00157361  0.00018879]]\n",
      "[233.27961519]\n",
      "[[ 0.00283146  0.0025113  -0.00128537 -0.00180666 -0.00153418  0.00023309]]\n",
      "[233.28314632]\n",
      "[[ 0.00286384  0.00254766 -0.0012469  -0.00177439 -0.00149811  0.00027361]]\n",
      "[233.28638397]\n",
      "[[ 0.0028935   0.00258094 -0.00121169 -0.00174486 -0.00146513  0.00031065]]\n",
      "[233.28934968]\n",
      "[[ 0.00292066  0.00261139 -0.00117948 -0.00171784 -0.00143498  0.00034451]]\n",
      "[233.29206579]\n"
     ]
    }
   ],
   "source": [
    "scaler = pickle.load((open(os.path.join('data','scaler.pkl'), 'rb')))\n",
    "\n",
    "time_stamps = 120\n",
    "ahead_pred = 48\n",
    "org_lstm = testing_data[:,0:time_stamps]\n",
    "y_ground = testing_data[:,time_stamps:time_stamps+ahead_pred]\n",
    "\n",
    "y_pred = []\n",
    "for i in range(ahead_pred):\n",
    "    input_lstm = get_moving_diff(org_lstm, replace_na=True)\n",
    "    input_lstm = np.vectorize(rescaling)(input_lstm)\n",
    "    \n",
    "    input_static = get_static_features(org_lstm)\n",
    "    input_static = scaler.transform(input_static)\n",
    "    \n",
    "    input_lstm = np.expand_dims(input_lstm, axis=-1)\n",
    "    input_static = np.expand_dims(input_static, axis=-1)\n",
    "\n",
    "    pred = model.predict(input_lstm)\n",
    "    print(pred)\n",
    "    \n",
    "    pred=pred[0][0]\n",
    "    pred = rescaling(pred, newscale=(-100,100), oldscale=(-1,1))\n",
    "    pred = org_lstm[:,-1]+pred\n",
    "    print(pred)\n",
    "    \n",
    "    if pred > int(pred)+0.5:\n",
    "         pred = int(pred)+1.0\n",
    "    else:\n",
    "         pred = int(pred)+0.0\n",
    "    \n",
    "    pred = np.reshape(pred, (1,1))\n",
    "    y_pred.append(pred)\n",
    "    org_lstm = np.concatenate((org_lstm[:,1:], pred), axis=-1)"
   ]
  },
  {
   "cell_type": "code",
   "execution_count": null,
   "metadata": {},
   "outputs": [],
   "source": [
    "np.save('gru_stacked_good.npy',y_pred)"
   ]
  },
  {
   "cell_type": "code",
   "execution_count": null,
   "metadata": {},
   "outputs": [],
   "source": []
  }
 ],
 "metadata": {
  "kernelspec": {
   "display_name": "Python 3",
   "language": "python",
   "name": "python3"
  },
  "language_info": {
   "codemirror_mode": {
    "name": "ipython",
    "version": 3
   },
   "file_extension": ".py",
   "mimetype": "text/x-python",
   "name": "python",
   "nbconvert_exporter": "python",
   "pygments_lexer": "ipython3",
   "version": "3.7.7"
  }
 },
 "nbformat": 4,
 "nbformat_minor": 4
}
