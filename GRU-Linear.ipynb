{
 "cells": [
  {
   "cell_type": "markdown",
   "metadata": {},
   "source": [
    "------------\n",
    "# Importing Necessary Libraries"
   ]
  },
  {
   "cell_type": "code",
   "execution_count": 4,
   "metadata": {},
   "outputs": [],
   "source": [
    "import numpy as np\n",
    "import pandas as pd\n",
    "import matplotlib.pyplot as plt\n",
    "import os\n",
    "import keras\n",
    "import tensorflow as tf\n",
    "import pickle\n",
    "\n",
    "from tensorflow.keras import models, layers\n",
    "from tensorflow.keras.callbacks import ModelCheckpoint\n",
    "from tensorflow.python.client import device_lib\n",
    "from sklearn.preprocessing import StandardScaler\n",
    "\n",
    "from ipynb.fs.full.PreProcessing import get_moving_diff, rescaling, get_static_features"
   ]
  },
  {
   "cell_type": "code",
   "execution_count": 3,
   "metadata": {},
   "outputs": [
    {
     "name": "stdout",
     "output_type": "stream",
     "text": [
      "[name: \"/device:CPU:0\"\n",
      "device_type: \"CPU\"\n",
      "memory_limit: 268435456\n",
      "locality {\n",
      "}\n",
      "incarnation: 9193228558117174590\n",
      "]\n"
     ]
    }
   ],
   "source": [
    "print(device_lib.list_local_devices())\n",
    "config = tf.ConfigProto( device_count = {'GPU': 1} ) \n",
    "sess = tf.Session(config=config) \n",
    "keras.backend.set_session(sess)"
   ]
  },
  {
   "cell_type": "markdown",
   "metadata": {},
   "source": [
    "---------------\n",
    "# Loading Data into System"
   ]
  },
  {
   "cell_type": "code",
   "execution_count": 5,
   "metadata": {},
   "outputs": [],
   "source": [
    "x_lstm_train = np.load(os.path.join('data', 'x_lstm_train.npy'))\n",
    "x_lstm_test = np.load(os.path.join('data', 'x_lstm_test.npy'))\n",
    "\n",
    "x_static_train = np.load(os.path.join('data', 'x_static_train.npy'))\n",
    "x_static_test = np.load(os.path.join('data', 'x_static_test.npy'))\n",
    "\n",
    "y_train = np.load(os.path.join('data', 'y_train.npy'))\n",
    "y_test = np.load(os.path.join('data', 'y_test.npy'))"
   ]
  },
  {
   "cell_type": "code",
   "execution_count": 6,
   "metadata": {},
   "outputs": [
    {
     "name": "stdout",
     "output_type": "stream",
     "text": [
      "(35776, 120) (8944, 120)\n",
      "(35776, 9) (8944, 9)\n",
      "(35776, 6) (8944, 6)\n"
     ]
    }
   ],
   "source": [
    "print(x_lstm_train.shape, x_lstm_test.shape)\n",
    "print(x_static_train.shape, x_static_test.shape)\n",
    "print(y_train.shape, y_test.shape)"
   ]
  },
  {
   "cell_type": "code",
   "execution_count": null,
   "metadata": {},
   "outputs": [],
   "source": []
  },
  {
   "cell_type": "markdown",
   "metadata": {},
   "source": [
    "# Re-Structuring the data"
   ]
  },
  {
   "cell_type": "code",
   "execution_count": 7,
   "metadata": {},
   "outputs": [],
   "source": [
    "x_lstm_train = np.expand_dims(x_lstm_train, axis=-1)\n",
    "x_lstm_test = np.expand_dims(x_lstm_test, axis=-1)\n",
    "\n",
    "x_static_train = np.expand_dims(x_static_train, axis=-1)\n",
    "x_static_test = np.expand_dims(x_static_test, axis=-1)"
   ]
  },
  {
   "cell_type": "code",
   "execution_count": 8,
   "metadata": {},
   "outputs": [
    {
     "name": "stdout",
     "output_type": "stream",
     "text": [
      "(35776, 120, 1) (8944, 120, 1)\n",
      "(35776, 9, 1) (8944, 9, 1)\n",
      "(35776, 6) (8944, 6)\n"
     ]
    }
   ],
   "source": [
    "print(x_lstm_train.shape, x_lstm_test.shape)\n",
    "print(x_static_train.shape, x_static_test.shape)\n",
    "print(y_train.shape, y_test.shape)"
   ]
  },
  {
   "cell_type": "code",
   "execution_count": null,
   "metadata": {},
   "outputs": [],
   "source": []
  },
  {
   "cell_type": "markdown",
   "metadata": {},
   "source": [
    "# Model Creation"
   ]
  },
  {
   "cell_type": "code",
   "execution_count": 9,
   "metadata": {},
   "outputs": [],
   "source": [
    "def r_square(y_true, y_pred):\n",
    "    from keras import backend as K\n",
    "    SS_res =  K.sum(K.square(y_true - y_pred)) \n",
    "    SS_tot = K.sum(K.square(y_true - K.mean(y_true))) \n",
    "    return ( 1 - SS_res/(SS_tot + K.epsilon()) )"
   ]
  },
  {
   "cell_type": "code",
   "execution_count": 10,
   "metadata": {},
   "outputs": [
    {
     "name": "stdout",
     "output_type": "stream",
     "text": [
      "WARNING:tensorflow:From c:\\users\\yrvak\\appdata\\local\\programs\\python\\python37\\lib\\site-packages\\keras\\backend\\tensorflow_backend.py:66: The name tf.get_default_graph is deprecated. Please use tf.compat.v1.get_default_graph instead.\n",
      "\n",
      "WARNING:tensorflow:From c:\\users\\yrvak\\appdata\\local\\programs\\python\\python37\\lib\\site-packages\\tensorflow_core\\python\\ops\\resource_variable_ops.py:1630: calling BaseResourceVariable.__init__ (from tensorflow.python.ops.resource_variable_ops) with constraint is deprecated and will be removed in a future version.\n",
      "Instructions for updating:\n",
      "If using Keras pass *_constraint arguments to layers.\n",
      "Model: \"model\"\n",
      "_________________________________________________________________\n",
      "Layer (type)                 Output Shape              Param #   \n",
      "=================================================================\n",
      "input_1 (InputLayer)         [(None, 120, 1)]          0         \n",
      "_________________________________________________________________\n",
      "gru (GRU)                    [(None, 120, 120), (None, 43920     \n",
      "_________________________________________________________________\n",
      "dropout (Dropout)            (None, 120)               0         \n",
      "_________________________________________________________________\n",
      "dense (Dense)                (None, 64)                7744      \n",
      "_________________________________________________________________\n",
      "dropout_1 (Dropout)          (None, 64)                0         \n",
      "_________________________________________________________________\n",
      "dense_1 (Dense)              (None, 16)                1040      \n",
      "_________________________________________________________________\n",
      "dropout_2 (Dropout)          (None, 16)                0         \n",
      "_________________________________________________________________\n",
      "dense_2 (Dense)              (None, 6)                 102       \n",
      "=================================================================\n",
      "Total params: 52,806\n",
      "Trainable params: 52,806\n",
      "Non-trainable params: 0\n",
      "_________________________________________________________________\n"
     ]
    }
   ],
   "source": [
    "# 32, 16, 30 \n",
    "model = keras.Sequential()\n",
    "\n",
    "lstm_input = layers.Input(shape=(x_lstm_train.shape[1], x_lstm_train.shape[2]))\n",
    "\n",
    "lstm_stack_1, lstm_stack_1_c = layers.GRU(120, return_sequences=True, return_state=True)(lstm_input)\n",
    "\n",
    "drop_2 = layers.Dropout(0.1)(lstm_stack_1_c)\n",
    "dense_1 = layers.Dense(64)(drop_2)\n",
    "drop_3 = layers.Dropout(0.05)(dense_1)\n",
    "dense_2 = layers.Dense(16)(drop_3)\n",
    "drop_4 = layers.Dropout(0.05)(dense_2)\n",
    "\n",
    "output = layers.Dense(6)(drop_4)\n",
    "\n",
    "\n",
    "model = models.Model(inputs=lstm_input, outputs=output)\n",
    "model.summary()\n",
    "model.compile(\n",
    "    loss='mse', \n",
    "    optimizer='adam', \n",
    "    metrics=[r_square,'mae']\n",
    ")"
   ]
  },
  {
   "cell_type": "code",
   "execution_count": 12,
   "metadata": {},
   "outputs": [
    {
     "name": "stdout",
     "output_type": "stream",
     "text": [
      "WARNING:tensorflow:`period` argument is deprecated. Please use `save_freq` to specify the frequency in number of samples seen.\n",
      "Train on 35776 samples, validate on 8944 samples\n",
      "Epoch 1/5\n",
      "35760/35776 [============================>.] - ETA: 0s - loss: 9.2757e-04 - r_square: 0.0679 - mean_absolute_error: 0.0171 \n",
      "Epoch 00001: saving model to model_gru_linear-001.h5\n",
      "35776/35776 [==============================] - 144s 4ms/sample - loss: 9.2735e-04 - r_square: 0.0679 - mean_absolute_error: 0.0171 - val_loss: 6.3742e-04 - val_r_square: 0.1082 - val_mean_absolute_error: 0.0152\n",
      "Epoch 2/5\n",
      "35760/35776 [============================>.] - ETA: 0s - loss: 9.1929e-04 - r_square: 0.0772 - mean_absolute_error: 0.0169\n",
      "Epoch 00002: saving model to model_gru_linear-002.h5\n",
      "35776/35776 [==============================] - 152s 4ms/sample - loss: 9.1927e-04 - r_square: 0.0773 - mean_absolute_error: 0.0169 - val_loss: 6.3757e-04 - val_r_square: 0.1025 - val_mean_absolute_error: 0.0152\n",
      "Epoch 3/5\n",
      "35760/35776 [============================>.] - ETA: 0s - loss: 9.1550e-04 - r_square: 0.0869 - mean_absolute_error: 0.0169\n",
      "Epoch 00003: saving model to model_gru_linear-003.h5\n",
      "35776/35776 [==============================] - 190s 5ms/sample - loss: 9.1525e-04 - r_square: 0.0868 - mean_absolute_error: 0.0169 - val_loss: 6.2497e-04 - val_r_square: 0.1247 - val_mean_absolute_error: 0.0149\n",
      "Epoch 4/5\n",
      "35760/35776 [============================>.] - ETA: 0s - loss: 9.1969e-04 - r_square: 0.0751 - mean_absolute_error: 0.0170\n",
      "Epoch 00004: saving model to model_gru_linear-004.h5\n",
      "35776/35776 [==============================] - 182s 5ms/sample - loss: 9.1947e-04 - r_square: 0.0753 - mean_absolute_error: 0.0170 - val_loss: 6.3237e-04 - val_r_square: 0.1076 - val_mean_absolute_error: 0.0153\n",
      "Epoch 5/5\n",
      "35760/35776 [============================>.] - ETA: 0s - loss: 9.1030e-04 - r_square: 0.0876 - mean_absolute_error: 0.0169\n",
      "Epoch 00005: saving model to model_gru_linear-005.h5\n",
      "35776/35776 [==============================] - 185s 5ms/sample - loss: 9.1011e-04 - r_square: 0.0875 - mean_absolute_error: 0.0169 - val_loss: 6.1794e-04 - val_r_square: 0.1338 - val_mean_absolute_error: 0.0150\n"
     ]
    }
   ],
   "source": [
    "checkpoint = ModelCheckpoint(\"model_gru_linear-{epoch:03d}.h5\", monitor='r_square', verbose=1,\n",
    "    save_best_only=False, save_weights_only=True, mode='auto', period=1)\n",
    "\n",
    "history = model.fit(\n",
    "    x_lstm_train, y_train,\n",
    "    epochs=5,\n",
    "    batch_size=48,\n",
    "    verbose=1,\n",
    "    validation_data=(x_lstm_test, y_test),\n",
    "    shuffle=True,\n",
    "    callbacks=[checkpoint]\n",
    ")"
   ]
  },
  {
   "cell_type": "code",
   "execution_count": null,
   "metadata": {},
   "outputs": [],
   "source": []
  },
  {
   "cell_type": "code",
   "execution_count": 30,
   "metadata": {},
   "outputs": [
    {
     "name": "stdout",
     "output_type": "stream",
     "text": [
      "dict_keys(['loss', 'r_square', 'mean_absolute_error', 'val_loss', 'val_r_square', 'val_mean_absolute_error'])\n"
     ]
    },
    {
     "data": {
      "text/plain": [
       "[<matplotlib.lines.Line2D at 0x24f64900fc8>]"
      ]
     },
     "execution_count": 30,
     "metadata": {},
     "output_type": "execute_result"
    },
    {
     "data": {
      "image/png": "[encoded data removed]",
      "text/plain": [
       "<Figure size 720x144 with 2 Axes>"
      ]
     },
     "metadata": {
      "needs_background": "light"
     },
     "output_type": "display_data"
    },
    {
     "data": {
      "image/png": "[encoded data removed]",
      "text/plain": [
       "<Figure size 720x144 with 2 Axes>"
      ]
     },
     "metadata": {
      "needs_background": "light"
     },
     "output_type": "display_data"
    },
    {
     "data": {
      "image/png": "[encoded data removed]",
      "text/plain": [
       "<Figure size 720x144 with 2 Axes>"
      ]
     },
     "metadata": {
      "needs_background": "light"
     },
     "output_type": "display_data"
    }
   ],
   "source": [
    "print(history.history.keys())\n",
    "\n",
    "fig1, (ax1, ax2) = plt.subplots(1, 2, figsize=(10,2))\n",
    "fig1.suptitle('Mean Squared Error')\n",
    "ax1.plot(history.history['loss'])\n",
    "ax2.plot(history.history['val_loss'])\n",
    "\n",
    "fig2, (ax1, ax2) = plt.subplots(1, 2, figsize=(10,2))\n",
    "fig2.suptitle('Mean Absolute Error')\n",
    "ax1.plot(history.history['mean_absolute_error'])\n",
    "ax2.plot(history.history['val_mean_absolute_error'])\n",
    "\n",
    "fig3, (ax1, ax2) = plt.subplots(1, 2, figsize=(10,2))\n",
    "fig3.suptitle('R Squared')\n",
    "ax1.plot(history.history['r_square'])\n",
    "ax2.plot(history.history['val_r_square'])"
   ]
  },
  {
   "cell_type": "code",
   "execution_count": null,
   "metadata": {},
   "outputs": [],
   "source": []
  },
  {
   "cell_type": "code",
   "execution_count": null,
   "metadata": {},
   "outputs": [],
   "source": [
    "model.save(os.path.join('data','model_gru_single.h5'))"
   ]
  },
  {
   "cell_type": "code",
   "execution_count": null,
   "metadata": {},
   "outputs": [],
   "source": []
  },
  {
   "cell_type": "markdown",
   "metadata": {},
   "source": [
    "# Testing Prediction sequence"
   ]
  },
  {
   "cell_type": "code",
   "execution_count": 31,
   "metadata": {},
   "outputs": [],
   "source": [
    "cgm_df = pd.read_csv(os.path.join('data','CGMData.csv')).T"
   ]
  },
  {
   "cell_type": "code",
   "execution_count": 32,
   "metadata": {},
   "outputs": [
    {
     "data": {
      "text/plain": [
       "array([[101.,  92.,  87.,  85.,  81.,  79.,  80.,  80.,  81.,  82.,  78.,\n",
       "         77.,  77.,  75.,  79.,  82.,  88.,  91.,  92.,  96., 101., 111.,\n",
       "        120., 126., 134., 147., 154., 158., 163., 161., 147., 131., 124.,\n",
       "        123., 124., 124., 124., 123., 124., 124., 129., 131., 128., 127.,\n",
       "        125., 127., 135., 137., 147., 147., 143., 145., 146., 146., 147.,\n",
       "        149., 150., 155., 163., 167., 169., 170., 171., 173., 180., 187.,\n",
       "        190., 182., 177., 173., 161., 153., 143., 140., 141., 139., 140.,\n",
       "        142., 130., 110., 110., 112., 117., 118., 116., 115., 114., 114.,\n",
       "        114., 114., 115., 115., 116., 117., 118., 119., 119., 120., 120.,\n",
       "        121., 121., 120., 120., 120., 122., 123., 123., 123., 122., 123.,\n",
       "        124., 125., 126., 126., 125., 124., 123., 123., 123., 122., 120.,\n",
       "        117., 116., 116., 117., 118., 118., 119., 120., 121., 122., 124.,\n",
       "        124., 124., 125., 125., 125., 125., 124., 122., 121., 119., 118.,\n",
       "        119., 123., 132., 139., 142., 144., 146., 148., 152., 156., 158.,\n",
       "        159., 159., 161., 166., 173., 181., 192., 202., 207., 208., 210.,\n",
       "        212., 217., 221., 226., 231., 235., 239., 241., 244., 241., 239.,\n",
       "        235., 228., 221., 213., 205., 199., 194., 185., 177., 171., 168.,\n",
       "        167., 161., 154., 149., 150., 153., 154., 145., 135., 127., 123.,\n",
       "        121., 121., 123., 125., 127., 127., 128., 130., 133., 133., 128.,\n",
       "        125., 120., 118., 123., 123., 118., 112.,  99.,  93.,  91.,  87.,\n",
       "         90.,  95., 100., 121., 134., 147., 156., 164., 172., 184., 199.,\n",
       "        203., 204., 205., 208., 213., 217., 213., 206., 200., 195., 193.,\n",
       "        188., 185., 181., 176., 169., 158., 151., 147., 143., 143., 147.,\n",
       "        151., 154., 153., 150., 147., 143., 140., 136., 134., 136., 135.,\n",
       "        139., 144., 150., 156., 161., 166., 170., 169., 166., 161., 156.,\n",
       "        154., 156., 159., 161., 163., 162., 163., 158., 154., 149., 146.,\n",
       "        145., 144., 141., 138., 132., 123., 116., 114., 119., 124., 124.,\n",
       "        114., 107., 105., 105., 105., 106., 108., 110., 107., 101., 101.,\n",
       "        102., 113., 115., 114., 116., 116., 120., 121., 118., 117., 117.,\n",
       "        117., 119., 114., 111., 110., 108., 109., 105., 101.,  99.,  97.,\n",
       "         97.,  98.,  98.,  97.,  97., 100.,  99.,  98.,  97.,  94.,  96.,\n",
       "         98., 100., 102., 102., 102., 105., 107., 106., 107., 109., 113.,\n",
       "        116., 118., 120., 117., 113., 112., 108., 105., 103., 104., 107.,\n",
       "        108., 105., 116., 121., 121., 125., 132., 141., 145., 143., 140.,\n",
       "        142., 144., 150., 154., 156., 157., 156., 154., 154., 156., 159.,\n",
       "        166., 169., 168., 168., 168., 164., 160., 160., 159., 178., 183.,\n",
       "        186., 189., 188., 186., 176., 172., 171., 172., 175., 176., 178.,\n",
       "        176., 171., 168., 164., 161., 159., 158., 158., 158., 155., 152.,\n",
       "        151., 150., 148., 146., 145., 145., 145., 145., 143., 138., 132.,\n",
       "        126., 123., 122., 124., 122., 115., 109., 105., 102., 103., 103.,\n",
       "        100., 100., 100., 101., 102., 101.,  98.,  95.,  91.]])"
      ]
     },
     "execution_count": 32,
     "metadata": {},
     "output_type": "execute_result"
    }
   ],
   "source": [
    "testing_data = cgm_df.T.iloc[:,-450:-1].to_numpy()\n",
    "testing_data"
   ]
  },
  {
   "cell_type": "code",
   "execution_count": null,
   "metadata": {},
   "outputs": [],
   "source": [
    "model.load_weights('model_gru_linear-118.h5')"
   ]
  },
  {
   "cell_type": "code",
   "execution_count": null,
   "metadata": {},
   "outputs": [],
   "source": []
  },
  {
   "cell_type": "code",
   "execution_count": null,
   "metadata": {},
   "outputs": [],
   "source": [
    "scaler = pickle.load((open(os.path.join('data','scaler.pkl'), 'rb')))\n",
    "\n",
    "time_stamps = 100\n",
    "ahead_pred = 48\n",
    "org_lstm = testing_data[:,0:time_stamps]\n",
    "y_ground = testing_data[:,time_stamps:time_stamps+ahead_pred]\n",
    "\n",
    "y_pred = []\n",
    "for i in range(ahead_pred):\n",
    "#    input_lstm = get_moving_diff(org_lstm, replace_na=True)\n",
    "    input_lstm = org_lstm\n",
    "#    input_lstm = np.vectorize(rescaling)(input_lstm)\n",
    "    \n",
    "    input_lstm = np.expand_dims(input_lstm, axis=-1)\n",
    "    \n",
    "    pred = model.predict(input_lstm)[0,0]\n",
    "#     pred = rescaling(pred[0,0], newscale=(-100,100), oldscale=(-1,1))\n",
    "#     pred = org_lstm[:,-1]+pred\n",
    "#     if pred[0] > int(pred[0])+0.5:\n",
    "#         pred[0] = int(pred[0])+1.0\n",
    "#     else:\n",
    "#         pred[0] = int(pred[0])\n",
    "        \n",
    "#     y_pred.append(pred)\n",
    "#     org_lstm = np.concatenate((org_lstm[:,1:], np.expand_dims(pred, axis=0)), axis=-1)\n",
    "\n",
    "#     pred = rescaling(org_lstm[:,-1], newscale=(0,1), oldscale=(20,450)) + pred\n",
    "#     pred = rescaling(pred, newscale=(20,450), oldscale=(0,1))\n",
    "    \n",
    "#     if pred > int(pred)+0.5:\n",
    "#         pred = int(pred)+1.0\n",
    "#     else:\n",
    "#         pred = int(pred)\n",
    "    \n",
    "#     pred = np.reshape(pred, (1,1))\n",
    "#     y_pred.append(pred)\n",
    "#     org_lstm = np.concatenate((org_lstm[:,1:], pred), axis=-1)\n",
    "\n",
    "#    pred = org_lstm[:,-1] + pred\n",
    "    \n",
    "    if pred >= int(pred)+0.5:\n",
    "        pred = int(pred)+1.0\n",
    "    else:\n",
    "        pred = int(pred)+0.0\n",
    "    print(pred)\n",
    "    pred = np.reshape(pred, (1,1))\n",
    "    y_pred.append(pred)\n",
    "    org_lstm = np.concatenate((org_lstm[:,1:], pred), axis=-1)"
   ]
  },
  {
   "cell_type": "code",
   "execution_count": null,
   "metadata": {},
   "outputs": [],
   "source": []
  },
  {
   "cell_type": "code",
   "execution_count": null,
   "metadata": {},
   "outputs": [],
   "source": []
  },
  {
   "cell_type": "code",
   "execution_count": 34,
   "metadata": {},
   "outputs": [
    {
     "name": "stdout",
     "output_type": "stream",
     "text": [
      "[[ 0.00014756 -0.00079538 -0.00106152  0.00180726 -0.00133475 -0.0015948 ]]\n",
      "[122.01475556]\n",
      "[[ 0.0009804  -0.00032611 -0.00068044  0.00202915 -0.00114435 -0.00143936]]\n",
      "[122.0980403]\n",
      "[[ 0.00126582 -0.00014043 -0.00052617  0.00216017 -0.00102102 -0.0012955 ]]\n",
      "[122.12658229]\n",
      "[[ 1.3748189e-03 -5.4911026e-05 -4.4719223e-04  2.2376198e-03\n",
      "  -9.4388757e-04 -1.2030937e-03]]\n",
      "[122.13748189]\n",
      "[[ 1.4413882e-03  3.8376602e-06 -3.8895675e-04  2.2932489e-03\n",
      "  -8.8713528e-04 -1.1385924e-03]]\n",
      "[122.14413882]\n",
      "[[ 1.4970060e-03  5.3792013e-05 -3.3917301e-04  2.3384008e-03\n",
      "  -8.4108941e-04 -1.0885266e-03]]\n",
      "[122.1497006]\n",
      "[[ 1.5454392e-03  9.7066135e-05 -2.9658212e-04  2.3758663e-03\n",
      "  -8.0322521e-04 -1.0483084e-03]]\n",
      "[122.15454392]\n",
      "[[ 0.00158656  0.00013362 -0.00026105  0.00240656 -0.00077253 -0.00101612]]\n",
      "[122.15865606]\n",
      "[[ 0.00162078  0.00016389 -0.00023195  0.00243131 -0.00074802 -0.00099064]]\n",
      "[122.16207793]\n",
      "[[ 0.00164894  0.00018868 -0.00020835  0.00245105 -0.00072865 -0.00097066]]\n",
      "[122.16489413]\n",
      "[[ 0.00167193  0.00020881 -0.00018938  0.00246661 -0.00071351 -0.00095515]]\n",
      "[122.16719329]\n",
      "[[ 0.00169053  0.00022503 -0.00017424  0.00247873 -0.00070182 -0.00094328]]\n",
      "[122.16905325]\n",
      "[[ 0.00170542  0.00023798 -0.0001623   0.00248802 -0.00069297 -0.00093439]]\n",
      "[122.17054176]\n",
      "[[ 0.00171717  0.00024818 -0.00015302  0.00249496 -0.00068644 -0.00092793]]\n",
      "[122.17171677]\n",
      "[[ 0.00172629  0.0002561  -0.00014593  0.00249999 -0.00068181 -0.00092347]]\n",
      "[122.17262932]\n",
      "[[ 0.00173323  0.00026213 -0.00014067  0.00250344 -0.00067873 -0.00092064]]\n",
      "[122.17332297]\n",
      "[[ 0.00173837  0.0002666  -0.00013689  0.00250563 -0.00067689 -0.0009191 ]]\n",
      "[122.17383718]\n",
      "[[ 0.00174204  0.00026979 -0.00013432  0.0025068  -0.00067604 -0.00091861]]\n",
      "[122.17420365]\n",
      "[[ 0.00174451  0.00027194 -0.00013273  0.00250717 -0.00067598 -0.00091892]]\n",
      "[122.17445059]\n",
      "[[ 0.00174601  0.00027326 -0.00013193  0.00250689 -0.00067654 -0.00091986]]\n",
      "[122.17460063]\n",
      "[[ 0.00174674  0.00027392 -0.00013174  0.00250614 -0.00067755 -0.00092127]]\n",
      "[122.17467421]\n",
      "[[ 0.00174687  0.00027404 -0.00013203  0.00250502 -0.00067891 -0.00092303]]\n",
      "[122.17468669]\n",
      "[[ 0.00174652  0.00027375 -0.00013269  0.00250364 -0.00068052 -0.00092502]]\n",
      "[122.17465206]\n",
      "[[ 0.00174581  0.00027315 -0.00013363  0.00250207 -0.00068229 -0.00092717]]\n",
      "[122.174581]\n",
      "[[ 0.00174483  0.00027232 -0.00013477  0.00250038 -0.00068416 -0.00092941]]\n",
      "[122.17448319]\n",
      "[[ 0.00174366  0.00027131 -0.00013605  0.00249862 -0.00068609 -0.00093169]]\n",
      "[122.17436587]\n",
      "[[ 0.00174235  0.00027019 -0.00013741  0.00249683 -0.00068803 -0.00093396]]\n",
      "[122.17423544]\n",
      "[[ 0.00174096  0.000269   -0.00013883  0.00249506 -0.00068995 -0.00093618]]\n",
      "[122.17409641]\n",
      "[[ 0.00173953  0.00026777 -0.00014025  0.00249331 -0.00069182 -0.00093835]]\n",
      "[122.17395306]\n",
      "[[ 0.00173808  0.00026653 -0.00014167  0.00249162 -0.00069363 -0.00094043]]\n",
      "[122.17380842]\n",
      "[[ 0.00173666  0.0002653  -0.00014306  0.00248999 -0.00069535 -0.00094241]]\n",
      "[122.17366577]\n",
      "[[ 0.00173526  0.00026409 -0.0001444   0.00248845 -0.000697   -0.00094429]]\n",
      "[122.17352591]\n",
      "[[ 0.00173391  0.00026293 -0.00014569  0.00248698 -0.00069855 -0.00094606]]\n",
      "[122.17339073]\n",
      "[[ 0.00173261  0.00026181 -0.00014692  0.00248559 -0.00070001 -0.00094772]]\n",
      "[122.17326064]\n",
      "[[ 0.00173137  0.00026074 -0.00014809  0.00248429 -0.00070138 -0.00094927]]\n",
      "[122.17313713]\n",
      "[[ 0.0017302   0.00025973 -0.00014918  0.00248308 -0.00070266 -0.00095071]]\n",
      "[122.17301985]\n",
      "[[ 0.0017291   0.00025878 -0.00015021  0.00248195 -0.00070384 -0.00095204]]\n",
      "[122.17291014]\n",
      "[[ 0.00172807  0.00025789 -0.00015117  0.00248091 -0.00070493 -0.00095327]]\n",
      "[122.17280716]\n",
      "[[ 0.00172711  0.00025706 -0.00015206  0.00247995 -0.00070594 -0.00095441]]\n",
      "[122.17271088]\n",
      "[[ 0.00172622  0.0002563  -0.00015288  0.00247906 -0.00070686 -0.00095545]]\n",
      "[122.17262192]\n",
      "[[ 0.00172539  0.00025558 -0.00015364  0.00247825 -0.00070771 -0.0009564 ]]\n",
      "[122.17253922]\n",
      "[[ 0.00172463  0.00025493 -0.00015434  0.0024775  -0.00070849 -0.00095727]]\n",
      "[122.17246327]\n",
      "[[ 0.00172394  0.00025433 -0.00015498  0.00247682 -0.00070919 -0.00095806]]\n",
      "[122.17239354]\n",
      "[[ 0.0017233   0.00025377 -0.00015556  0.00247621 -0.00070984 -0.00095878]]\n",
      "[122.17232958]\n",
      "[[ 0.00172271  0.00025327 -0.0001561   0.00247564 -0.00071043 -0.00095944]]\n",
      "[122.17227081]\n",
      "[[ 0.00172217  0.0002528  -0.00015658  0.00247513 -0.00071096 -0.00096003]]\n",
      "[122.17221717]\n",
      "[[ 0.00172168  0.00025238 -0.00015703  0.00247466 -0.00071144 -0.00096057]]\n",
      "[122.17216834]\n",
      "[[ 0.00172124  0.000252   -0.00015743  0.00247424 -0.00071187 -0.00096106]]\n",
      "[122.17212408]\n"
     ]
    }
   ],
   "source": [
    "scaler = pickle.load((open(os.path.join('data','scaler.pkl'), 'rb')))\n",
    "\n",
    "time_stamps = 120\n",
    "ahead_pred = 48\n",
    "org_lstm = testing_data[:,0:time_stamps]\n",
    "y_ground = testing_data[:,time_stamps:time_stamps+ahead_pred]\n",
    "\n",
    "y_pred = []\n",
    "for i in range(ahead_pred):\n",
    "    input_lstm = get_moving_diff(org_lstm, replace_na=True)\n",
    "    input_lstm = np.vectorize(rescaling)(input_lstm)\n",
    "    \n",
    "    input_static = get_static_features(org_lstm)\n",
    "    input_static = scaler.transform(input_static)\n",
    "    \n",
    "    input_lstm = np.expand_dims(input_lstm, axis=-1)\n",
    "    input_static = np.expand_dims(input_static, axis=-1)\n",
    "\n",
    "    pred = model.predict(input_lstm)\n",
    "    print(pred)\n",
    "    pred=pred[0][0]\n",
    "    pred = rescaling(pred, newscale=(-100,100), oldscale=(-1,1))\n",
    "    pred = org_lstm[:,-1]+pred\n",
    "    print(pred)\n",
    "    \n",
    "    if pred >= int(pred)+0.5:\n",
    "         pred = int(pred)+1.0\n",
    "    else:\n",
    "         pred = int(pred)+0.0\n",
    "    pred = np.reshape(pred, (1,1))\n",
    "    y_pred.append(pred)\n",
    "    org_lstm = np.concatenate((org_lstm[:,1:], pred), axis=-1)"
   ]
  },
  {
   "cell_type": "code",
   "execution_count": null,
   "metadata": {},
   "outputs": [],
   "source": [
    "np.save('gru_linear_good.npy',y_pred)"
   ]
  },
  {
   "cell_type": "code",
   "execution_count": null,
   "metadata": {},
   "outputs": [],
   "source": []
  }
 ],
 "metadata": {
  "kernelspec": {
   "display_name": "Python 3",
   "language": "python",
   "name": "python3"
  },
  "language_info": {
   "codemirror_mode": {
    "name": "ipython",
    "version": 3
   },
   "file_extension": ".py",
   "mimetype": "text/x-python",
   "name": "python",
   "nbconvert_exporter": "python",
   "pygments_lexer": "ipython3",
   "version": "3.7.7"
  }
 },
 "nbformat": 4,
 "nbformat_minor": 4
}
