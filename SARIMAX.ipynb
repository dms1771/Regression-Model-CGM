{
 "cells": [
  {
   "cell_type": "markdown",
   "metadata": {},
   "source": [
    "## Auto Regression based SARIMA Model of CGM"
   ]
  },
  {
   "cell_type": "markdown",
   "metadata": {},
   "source": [
    "#### Import necessary libraries"
   ]
  },
  {
   "cell_type": "code",
   "execution_count": 0,
   "metadata": {
    "colab": {},
    "colab_type": "code",
    "id": "lw1C-r1nvWjZ"
   },
   "outputs": [],
   "source": [
    "import warnings\n",
    "import itertools\n",
    "import numpy as np\n",
    "import matplotlib.pyplot as plt\n",
    "%matplotlib inline\n",
    "warnings.filterwarnings(\"ignore\")\n",
    "plt.style.use('fivethirtyeight')\n",
    "import pandas as pd\n",
    "import statsmodels.api as sm\n",
    "from pandas.plotting import autocorrelation_plot"
   ]
  },
  {
   "cell_type": "code",
   "execution_count": 4,
   "metadata": {
    "colab": {
     "base_uri": "https://localhost:8080/",
     "height": 34
    },
    "colab_type": "code",
    "id": "sAXLDvcKv3uJ",
    "outputId": "562a93b5-1ac8-4e08-e218-244b7859d835"
   },
   "outputs": [
    {
     "data": {
      "text/plain": [
       "(43628, 1)"
      ]
     },
     "execution_count": 4,
     "metadata": {
      "tags": []
     },
     "output_type": "execute_result"
    }
   ],
   "source": [
    "data = pd.read_csv('CGMData.csv').T\n",
    "data = data.reset_index(drop=True);\n",
    "data = data.dropna()\n",
    "data.shape"
   ]
  },
  {
   "cell_type": "markdown",
   "metadata": {},
   "source": [
    "#### Plot Autocorrelation and Partial Autocorrelation to find the relationship between two objects"
   ]
  },
  {
   "cell_type": "code",
   "execution_count": 5,
   "metadata": {
    "colab": {
     "base_uri": "https://localhost:8080/",
     "height": 303
    },
    "colab_type": "code",
    "id": "L_SAf8uMc33i",
    "outputId": "65a13cfa-56b4-4327-9301-edf5249de5f2"
   },
   "outputs": [
    {
     "data": {
      "image/png": "[encoded data removed]",
      "text/plain": [
       "<Figure size 432x288 with 2 Axes>"
      ]
     },
     "metadata": {
      "tags": []
     },
     "output_type": "display_data"
    }
   ],
   "source": [
    "fig, ax = plt.subplots(2,1)\n",
    "fig = sm.graphics.tsa.plot_acf(data, lags=40, ax=ax[0])\n",
    "fig = sm.graphics.tsa.plot_pacf(data, lags=40, ax=ax[1])\n",
    "plt.show()"
   ]
  },
  {
   "cell_type": "markdown",
   "metadata": {},
   "source": [
    "#### Calculate relative quality of statistical models for a given data set using AIC estimator pick the combination which has minimum AIC value for training model."
   ]
  },
  {
   "cell_type": "code",
   "execution_count": null,
   "metadata": {
    "colab": {
     "base_uri": "https://localhost:8080/",
     "height": 34
    },
    "colab_type": "code",
    "id": "rIw_0uEFwcnf",
    "outputId": "0a53cd53-38ef-4fc8-c9c6-8bdb20ed9566"
   },
   "outputs": [
    {
     "name": "stdout",
     "output_type": "stream",
     "text": [
      "ARIMA(0, 0, 0)x(0, 0, 0, 12)12 - AIC:574347.5790607167\n",
      "ARIMA(0, 0, 0)x(0, 0, 1, 12)12 - AIC:526944.9307503637\n",
      "ARIMA(0, 0, 0)x(0, 0, 2, 12)12 - AIC:501076.88861111115\n",
      "ARIMA(0, 0, 0)x(0, 1, 0, 12)12 - AIC:463652.88567043433\n",
      "ARIMA(0, 0, 0)x(0, 1, 1, 12)12 - AIC:463173.9962082267\n"
     ]
    }
   ],
   "source": [
    "p = d = q = range(0, 3)\n",
    "pdq = list(itertools.product(p, d, q))\n",
    "seasonal_pdq = [(x[0], x[1], x[2], 12) for x in list(itertools.product(p, d, q))]\n",
    "for param in pdq:\n",
    "    for param_seasonal in seasonal_pdq:\n",
    "        try:\n",
    "            mod = sm.tsa.statespace.SARIMAX(data,order=param,seasonal_order=param_seasonal,enforce_stationarity=False,enforce_invertibility=False)\n",
    "            results = mod.fit()\n",
    "            print('ARIMA{}x{}12 - AIC:{}'.format(param,param_seasonal,results.aic))\n",
    "        except: \n",
    "            continue"
   ]
  },
  {
   "cell_type": "markdown",
   "metadata": {},
   "source": [
    "#### Dividing data into train and test data set and fit SARIMA model for prediction using walk forward validation technique"
   ]
  },
  {
   "cell_type": "code",
   "execution_count": null,
   "metadata": {},
   "outputs": [],
   "source": [
    "def walk_forward_validation(data,n_test):\n",
    "    predictions = pd.Series()\n",
    "    train, test = data[:n_test],data[n_test:];\n",
    "    model = sm.tsa.statespace.SARIMAX(train,\n",
    "                                order=( 1 ,1, 2),\n",
    "                                seasonal_order=(1, 0, 2, 12),\n",
    "                                enforce_stationarity=False,\n",
    "                                enforce_invertibility=False).fit();\n",
    "    print(model.summary().tables[1])\n",
    "    forecast = model.predict(len(train),len(train)+len(test)-1);\n",
    "    print (forecast);\n",
    "    predictions = pd.concat([predictions,forecast]);\n",
    "    return predictions,test[0];"
   ]
  },
  {
   "cell_type": "markdown",
   "metadata": {},
   "source": [
    "#### Calculate accuracy measurement of model using Mean Absolute Error, Mean Squared Error, Root Mean Squared Error"
   ]
  },
  {
   "cell_type": "code",
   "execution_count": 0,
   "metadata": {
    "colab": {},
    "colab_type": "code",
    "id": "Q5lsPnBYsCq5"
   },
   "outputs": [],
   "source": [
    "from sklearn.metrics import mean_absolute_error\n",
    "from sklearn.metrics import mean_squared_error\n",
    "from math import sqrt\n",
    "def forecast_accuracy(forecast, actual):         \n",
    "    mae =  mean_absolute_error(actual, forecast)   \n",
    "    mse = mean_squared_error(actual, forecast)\n",
    "    rmse = sqrt(mse)         \n",
    "    return({\n",
    "        'mae':mae,\n",
    "        'mse':mse,\n",
    "        'rmse':rmse\n",
    "    })"
   ]
  },
  {
   "cell_type": "code",
   "execution_count": 41,
   "metadata": {
    "colab": {
     "base_uri": "https://localhost:8080/",
     "height": 370
    },
    "colab_type": "code",
    "id": "bmLwtLiLiwJd",
    "outputId": "495ce6c3-4f14-47e3-ac2c-5a9543ff67d8"
   },
   "outputs": [
    {
     "name": "stdout",
     "output_type": "stream",
     "text": [
      "==============================================================================\n",
      "                 coef    std err          z      P>|z|      [0.025      0.975]\n",
      "------------------------------------------------------------------------------\n",
      "ar.L1          0.7190      0.004    182.387      0.000       0.711       0.727\n",
      "ma.L1         -0.0964      0.004    -24.623      0.000      -0.104      -0.089\n",
      "ar.S.L12       0.6007      0.117      5.114      0.000       0.370       0.831\n",
      "ma.S.L12      -0.6190      0.115     -5.375      0.000      -0.845      -0.393\n",
      "sigma2        24.9116      0.016   1549.028      0.000      24.880      24.943\n",
      "==============================================================================\n",
      "39265    118.378617\n",
      "39266    117.973687\n",
      "39267    117.666736\n",
      "39268    117.498463\n",
      "39269    117.413626\n",
      "            ...    \n",
      "43623    117.837536\n",
      "43624    117.837536\n",
      "43625    117.837536\n",
      "43626    117.837536\n",
      "43627    117.837536\n",
      "Length: 4363, dtype: float64\n"
     ]
    }
   ],
   "source": [
    "train_size = int(len(data)*0.9);\n",
    "predictions, test = walk_forward_validation(data, train_size)"
   ]
  },
  {
   "cell_type": "code",
   "execution_count": 42,
   "metadata": {
    "colab": {
     "base_uri": "https://localhost:8080/",
     "height": 34
    },
    "colab_type": "code",
    "id": "uUhRg_uo0Y4S",
    "outputId": "c93d4027-97c6-4f9d-86c9-bd1d7b00a59f"
   },
   "outputs": [
    {
     "name": "stdout",
     "output_type": "stream",
     "text": [
      "{'mae': 57.351749798894, 'mse': 5699.807403895645, 'rmse': 75.49706884307261}\n"
     ]
    }
   ],
   "source": [
    "error = forecast_accuracy(predictions,test)\n",
    "print (error)"
   ]
  }
 ],
 "metadata": {
  "accelerator": "GPU",
  "colab": {
   "collapsed_sections": [],
   "name": "SARIMAX.ipynb",
   "provenance": []
  },
  "kernelspec": {
   "display_name": "Python 3",
   "language": "python",
   "name": "python3"
  },
  "language_info": {
   "codemirror_mode": {
    "name": "ipython",
    "version": 3
   },
   "file_extension": ".py",
   "mimetype": "text/x-python",
   "name": "python",
   "nbconvert_exporter": "python",
   "pygments_lexer": "ipython3",
   "version": "3.7.6"
  }
 },
 "nbformat": 4,
 "nbformat_minor": 1
}
