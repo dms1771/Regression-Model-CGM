{
 "cells": [
  {
   "cell_type": "markdown",
   "metadata": {},
   "source": [
    "------------\n",
    "# Importing Necessary Libraries"
   ]
  },
  {
   "cell_type": "code",
   "execution_count": 3,
   "metadata": {},
   "outputs": [],
   "source": [
    "import numpy as np\n",
    "import pandas as pd\n",
    "import matplotlib.pyplot as plt\n",
    "import os\n",
    "import keras\n",
    "import tensorflow as tf\n",
    "import pickle\n",
    "\n",
    "from tensorflow.keras import models, layers\n",
    "from tensorflow.keras.callbacks import ModelCheckpoint\n",
    "from tensorflow.python.client import device_lib\n",
    "from sklearn.preprocessing import StandardScaler\n",
    "\n",
    "from ipynb.fs.full.PreProcessing import get_moving_diff, rescaling, get_static_features"
   ]
  },
  {
   "cell_type": "code",
   "execution_count": 4,
   "metadata": {},
   "outputs": [
    {
     "name": "stdout",
     "output_type": "stream",
     "text": [
      "[name: \"/device:CPU:0\"\n",
      "device_type: \"CPU\"\n",
      "memory_limit: 268435456\n",
      "locality {\n",
      "}\n",
      "incarnation: 7236663841342038864\n",
      "]\n"
     ]
    }
   ],
   "source": [
    "print(device_lib.list_local_devices())\n",
    "config = tf.ConfigProto( device_count = {'GPU': 1} ) \n",
    "sess = tf.Session(config=config) \n",
    "keras.backend.set_session(sess)"
   ]
  },
  {
   "cell_type": "markdown",
   "metadata": {},
   "source": [
    "---------------\n",
    "# Loading Data into System"
   ]
  },
  {
   "cell_type": "code",
   "execution_count": 5,
   "metadata": {},
   "outputs": [],
   "source": [
    "x_lstm_train = np.load(os.path.join('data', 'x_lstm_train.npy'))\n",
    "x_lstm_test = np.load(os.path.join('data', 'x_lstm_test.npy'))\n",
    "\n",
    "x_static_train = np.load(os.path.join('data', 'x_static_train.npy'))\n",
    "x_static_test = np.load(os.path.join('data', 'x_static_test.npy'))\n",
    "\n",
    "y_train = np.load(os.path.join('data', 'y_train.npy'))\n",
    "y_test = np.load(os.path.join('data', 'y_test.npy'))"
   ]
  },
  {
   "cell_type": "code",
   "execution_count": 6,
   "metadata": {},
   "outputs": [
    {
     "name": "stdout",
     "output_type": "stream",
     "text": [
      "(35776, 120) (8944, 120)\n",
      "(35776, 9) (8944, 9)\n",
      "(35776, 6) (8944, 6)\n"
     ]
    }
   ],
   "source": [
    "print(x_lstm_train.shape, x_lstm_test.shape)\n",
    "print(x_static_train.shape, x_static_test.shape)\n",
    "print(y_train.shape, y_test.shape)"
   ]
  },
  {
   "cell_type": "code",
   "execution_count": null,
   "metadata": {},
   "outputs": [],
   "source": []
  },
  {
   "cell_type": "markdown",
   "metadata": {},
   "source": [
    "# Re-Structuring the data"
   ]
  },
  {
   "cell_type": "code",
   "execution_count": 7,
   "metadata": {},
   "outputs": [],
   "source": [
    "x_lstm_train = np.expand_dims(x_lstm_train, axis=-1)\n",
    "x_lstm_test = np.expand_dims(x_lstm_test, axis=-1)\n",
    "\n",
    "x_static_train = np.expand_dims(x_static_train, axis=-1)\n",
    "x_static_test = np.expand_dims(x_static_test, axis=-1)"
   ]
  },
  {
   "cell_type": "code",
   "execution_count": 8,
   "metadata": {},
   "outputs": [
    {
     "name": "stdout",
     "output_type": "stream",
     "text": [
      "(35776, 120, 1) (8944, 120, 1)\n",
      "(35776, 9, 1) (8944, 9, 1)\n",
      "(35776, 6) (8944, 6)\n"
     ]
    }
   ],
   "source": [
    "print(x_lstm_train.shape, x_lstm_test.shape)\n",
    "print(x_static_train.shape, x_static_test.shape)\n",
    "print(y_train.shape, y_test.shape)"
   ]
  },
  {
   "cell_type": "code",
   "execution_count": null,
   "metadata": {},
   "outputs": [],
   "source": []
  },
  {
   "cell_type": "markdown",
   "metadata": {},
   "source": [
    "# Model Creation"
   ]
  },
  {
   "cell_type": "code",
   "execution_count": 9,
   "metadata": {},
   "outputs": [],
   "source": [
    "def r_square(y_true, y_pred):\n",
    "    from keras import backend as K\n",
    "    SS_res =  K.sum(K.square(y_true - y_pred)) \n",
    "    SS_tot = K.sum(K.square(y_true - K.mean(y_true))) \n",
    "    return ( 1 - SS_res/(SS_tot + K.epsilon()) )"
   ]
  },
  {
   "cell_type": "code",
   "execution_count": 10,
   "metadata": {},
   "outputs": [
    {
     "name": "stdout",
     "output_type": "stream",
     "text": [
      "WARNING:tensorflow:From c:\\users\\yrvak\\appdata\\local\\programs\\python\\python37\\lib\\site-packages\\keras\\backend\\tensorflow_backend.py:66: The name tf.get_default_graph is deprecated. Please use tf.compat.v1.get_default_graph instead.\n",
      "\n",
      "WARNING:tensorflow:From c:\\users\\yrvak\\appdata\\local\\programs\\python\\python37\\lib\\site-packages\\tensorflow_core\\python\\ops\\resource_variable_ops.py:1630: calling BaseResourceVariable.__init__ (from tensorflow.python.ops.resource_variable_ops) with constraint is deprecated and will be removed in a future version.\n",
      "Instructions for updating:\n",
      "If using Keras pass *_constraint arguments to layers.\n",
      "Model: \"model\"\n",
      "__________________________________________________________________________________________________\n",
      "Layer (type)                    Output Shape         Param #     Connected to                     \n",
      "==================================================================================================\n",
      "input_1 (InputLayer)            [(None, 120, 1)]     0                                            \n",
      "__________________________________________________________________________________________________\n",
      "gru (GRU)                       [(None, 120, 120), ( 43920       input_1[0][0]                    \n",
      "__________________________________________________________________________________________________\n",
      "input_2 (InputLayer)            [(None, 9, 1)]       0                                            \n",
      "__________________________________________________________________________________________________\n",
      "dropout (Dropout)               (None, 120, 120)     0           gru[0][0]                        \n",
      "__________________________________________________________________________________________________\n",
      "dense (Dense)                   (None, 9, 2)         4           input_2[0][0]                    \n",
      "__________________________________________________________________________________________________\n",
      "gru_1 (GRU)                     [(None, 120, 120), ( 86760       dropout[0][0]                    \n",
      "__________________________________________________________________________________________________\n",
      "flatten (Flatten)               (None, 18)           0           dense[0][0]                      \n",
      "__________________________________________________________________________________________________\n",
      "concatenate (Concatenate)       (None, 258)          0           gru[0][1]                        \n",
      "                                                                 gru_1[0][1]                      \n",
      "                                                                 flatten[0][0]                    \n",
      "__________________________________________________________________________________________________\n",
      "dropout_1 (Dropout)             (None, 258)          0           concatenate[0][0]                \n",
      "__________________________________________________________________________________________________\n",
      "dense_1 (Dense)                 (None, 64)           16576       dropout_1[0][0]                  \n",
      "__________________________________________________________________________________________________\n",
      "dropout_2 (Dropout)             (None, 64)           0           dense_1[0][0]                    \n",
      "__________________________________________________________________________________________________\n",
      "dense_2 (Dense)                 (None, 16)           1040        dropout_2[0][0]                  \n",
      "__________________________________________________________________________________________________\n",
      "dropout_3 (Dropout)             (None, 16)           0           dense_2[0][0]                    \n",
      "__________________________________________________________________________________________________\n",
      "dense_3 (Dense)                 (None, 6)            102         dropout_3[0][0]                  \n",
      "==================================================================================================\n",
      "Total params: 148,402\n",
      "Trainable params: 148,402\n",
      "Non-trainable params: 0\n",
      "__________________________________________________________________________________________________\n"
     ]
    }
   ],
   "source": [
    "# 32, 16, 30 \n",
    "model = keras.Sequential()\n",
    "\n",
    "lstm_input = layers.Input(shape=(x_lstm_train.shape[1], x_lstm_train.shape[2]))\n",
    "static_input = layers.Input(shape=(x_static_train.shape[1], x_static_train.shape[2]))\n",
    "\n",
    "lstm_stack_1, lstm_stack_1_c = layers.GRU(120, return_sequences=True, return_state=True)(lstm_input)\n",
    "drop_lstm_1 = layers.Dropout(0.05)(lstm_stack_1)\n",
    "\n",
    "lstm_stack_2, lstm_stack_2_c = layers.GRU(120, return_sequences=True, return_state=True)(drop_lstm_1)\n",
    "\n",
    "static_dense = layers.Dense(2)(static_input)\n",
    "static_flatten = layers.Flatten()(static_dense)\n",
    "\n",
    "concatenate = layers.Concatenate()([lstm_stack_1_c, lstm_stack_2_c, static_flatten])\n",
    "\n",
    "\n",
    "drop_2 = layers.Dropout(0.1)(concatenate)\n",
    "dense_1 = layers.Dense(64)(drop_2)\n",
    "drop_3 = layers.Dropout(0.05)(dense_1)\n",
    "dense_2 = layers.Dense(16)(drop_3)\n",
    "drop_4 = layers.Dropout(0.02)(dense_2)\n",
    "\n",
    "output = layers.Dense(6)(drop_4)\n",
    "\n",
    "\n",
    "model = models.Model(inputs=[lstm_input, static_input], outputs=output)\n",
    "model.summary()\n",
    "model.compile(\n",
    "    loss='mse', \n",
    "    optimizer='adam', \n",
    "    metrics=[r_square,'mae']\n",
    ")"
   ]
  },
  {
   "cell_type": "code",
   "execution_count": 12,
   "metadata": {},
   "outputs": [
    {
     "name": "stdout",
     "output_type": "stream",
     "text": [
      "Train on 35776 samples, validate on 8944 samples\n",
      "Epoch 1/5\n",
      "35760/35776 [============================>.] - ETA: 0s - loss: 0.0013 - r_square: -0.4720 - mean_absolute_error: 0.0231\n",
      "Epoch 00001: saving model to model_gru_static-001.h5\n",
      "35776/35776 [==============================] - 602s 17ms/sample - loss: 0.0013 - r_square: -0.4717 - mean_absolute_error: 0.0231 - val_loss: 6.3027e-04 - val_r_square: 0.1173 - val_mean_absolute_error: 0.0154\n",
      "Epoch 2/5\n",
      "35760/35776 [============================>.] - ETA: 0s - loss: 9.7417e-04 - r_square: 0.0036 - mean_absolute_error: 0.0183\n",
      "Epoch 00002: saving model to model_gru_static-002.h5\n",
      "35776/35776 [==============================] - 688s 19ms/sample - loss: 9.7412e-04 - r_square: 0.0039 - mean_absolute_error: 0.0183 - val_loss: 6.4118e-04 - val_r_square: 0.0959 - val_mean_absolute_error: 0.0155\n",
      "Epoch 3/5\n",
      "35760/35776 [============================>.] - ETA: 0s - loss: 9.2856e-04 - r_square: 0.0634 - mean_absolute_error: 0.0174\n",
      "Epoch 00003: saving model to model_gru_static-003.h5\n",
      "35776/35776 [==============================] - 517s 14ms/sample - loss: 9.2835e-04 - r_square: 0.0634 - mean_absolute_error: 0.0174 - val_loss: 6.2556e-04 - val_r_square: 0.1192 - val_mean_absolute_error: 0.0153\n",
      "Epoch 4/5\n",
      "35760/35776 [============================>.] - ETA: 0s - loss: 9.0746e-04 - r_square: 0.0888 - mean_absolute_error: 0.0171\n",
      "Epoch 00004: saving model to model_gru_static-004.h5\n",
      "35776/35776 [==============================] - 398s 11ms/sample - loss: 9.0732e-04 - r_square: 0.0889 - mean_absolute_error: 0.0171 - val_loss: 6.1671e-04 - val_r_square: 0.1319 - val_mean_absolute_error: 0.0152\n",
      "Epoch 5/5\n",
      "35760/35776 [============================>.] - ETA: 0s - loss: 8.9365e-04 - r_square: 0.1072 - mean_absolute_error: 0.0169\n",
      "Epoch 00005: saving model to model_gru_static-005.h5\n",
      "35776/35776 [==============================] - 319s 9ms/sample - loss: 8.9399e-04 - r_square: 0.1060 - mean_absolute_error: 0.0169 - val_loss: 6.0592e-04 - val_r_square: 0.1583 - val_mean_absolute_error: 0.0148\n"
     ]
    }
   ],
   "source": [
    "filepath = \"model_gru_static-{epoch:03d}.h5\"\n",
    "checkpoint = ModelCheckpoint(filepath, monitor='r_square', verbose=1,\n",
    "    save_best_only=False, save_weights_only=True, mode='auto', period=1)\n",
    "\n",
    "history = model.fit(\n",
    "    [x_lstm_train, x_static_train], y_train,\n",
    "    epochs=5,\n",
    "    batch_size=48,\n",
    "    verbose=1,\n",
    "    validation_data=([x_lstm_test, x_static_test], y_test),\n",
    "    shuffle=True,\n",
    "    callbacks=[checkpoint]\n",
    ")"
   ]
  },
  {
   "cell_type": "code",
   "execution_count": null,
   "metadata": {},
   "outputs": [],
   "source": []
  },
  {
   "cell_type": "code",
   "execution_count": null,
   "metadata": {},
   "outputs": [],
   "source": []
  },
  {
   "cell_type": "code",
   "execution_count": 13,
   "metadata": {},
   "outputs": [
    {
     "name": "stdout",
     "output_type": "stream",
     "text": [
      "dict_keys(['loss', 'r_square', 'mean_absolute_error', 'val_loss', 'val_r_square', 'val_mean_absolute_error'])\n"
     ]
    },
    {
     "data": {
      "text/plain": [
       "[<matplotlib.lines.Line2D at 0x251f2e7e3c8>]"
      ]
     },
     "execution_count": 13,
     "metadata": {},
     "output_type": "execute_result"
    },
    {
     "data": {
      "image/png": "[encoded data removed]",
      "text/plain": [
       "<Figure size 720x144 with 2 Axes>"
      ]
     },
     "metadata": {
      "needs_background": "light"
     },
     "output_type": "display_data"
    },
    {
     "data": {
      "image/png": "[encoded data removed]",
      "text/plain": [
       "<Figure size 720x144 with 2 Axes>"
      ]
     },
     "metadata": {
      "needs_background": "light"
     },
     "output_type": "display_data"
    },
    {
     "data": {
      "image/png": "[encoded data removed]",
      "text/plain": [
       "<Figure size 720x144 with 2 Axes>"
      ]
     },
     "metadata": {
      "needs_background": "light"
     },
     "output_type": "display_data"
    }
   ],
   "source": [
    "print(history.history.keys())\n",
    "\n",
    "fig1, (ax1, ax2) = plt.subplots(1, 2, figsize=(10,2))\n",
    "fig1.suptitle('Mean Squared Error')\n",
    "ax1.plot(history.history['loss'])\n",
    "ax2.plot(history.history['val_loss'])\n",
    "\n",
    "fig2, (ax1, ax2) = plt.subplots(1, 2, figsize=(10,2))\n",
    "fig2.suptitle('Mean Absolute Error')\n",
    "ax1.plot(history.history['mean_absolute_error'])\n",
    "ax2.plot(history.history['val_mean_absolute_error'])\n",
    "\n",
    "fig3, (ax1, ax2) = plt.subplots(1, 2, figsize=(10,2))\n",
    "fig3.suptitle('R Squared')\n",
    "ax1.plot(history.history['r_square'])\n",
    "ax2.plot(history.history['val_r_square'])"
   ]
  },
  {
   "cell_type": "code",
   "execution_count": null,
   "metadata": {},
   "outputs": [],
   "source": []
  },
  {
   "cell_type": "code",
   "execution_count": null,
   "metadata": {},
   "outputs": [],
   "source": [
    "model.save(os.path.join('data','model_gru_static.h5'))"
   ]
  },
  {
   "cell_type": "code",
   "execution_count": null,
   "metadata": {},
   "outputs": [],
   "source": []
  },
  {
   "cell_type": "markdown",
   "metadata": {},
   "source": [
    "# Testing Prediction sequence"
   ]
  },
  {
   "cell_type": "code",
   "execution_count": 14,
   "metadata": {},
   "outputs": [],
   "source": [
    "cgm_df = pd.read_csv(os.path.join('data','CGMData.csv')).T"
   ]
  },
  {
   "cell_type": "code",
   "execution_count": 15,
   "metadata": {},
   "outputs": [
    {
     "data": {
      "text/plain": [
       "array([[143., 145., 146., 146., 147., 149., 150., 155., 163., 167., 169.,\n",
       "        170., 171., 173., 180., 187., 190., 182., 177., 173., 161., 153.,\n",
       "        143., 140., 141., 139., 140., 142., 130., 110., 110., 112., 117.,\n",
       "        118., 116., 115., 114., 114., 114., 114., 115., 115., 116., 117.,\n",
       "        118., 119., 119., 120., 120., 121., 121., 120., 120., 120., 122.,\n",
       "        123., 123., 123., 122., 123., 124., 125., 126., 126., 125., 124.,\n",
       "        123., 123., 123., 122., 120., 117., 116., 116., 117., 118., 118.,\n",
       "        119., 120., 121., 122., 124., 124., 124., 125., 125., 125., 125.,\n",
       "        124., 122., 121., 119., 118., 119., 123., 132., 139., 142., 144.,\n",
       "        146., 148., 152., 156., 158., 159., 159., 161., 166., 173., 181.,\n",
       "        192., 202., 207., 208., 210., 212., 217., 221., 226., 231., 235.,\n",
       "        239., 241., 244., 241., 239., 235., 228., 221., 213., 205., 199.,\n",
       "        194., 185., 177., 171., 168., 167., 161., 154., 149., 150., 153.,\n",
       "        154., 145., 135., 127., 123., 121., 121., 123., 125., 127., 127.,\n",
       "        128., 130., 133., 133., 128., 125., 120., 118., 123., 123., 118.,\n",
       "        112.,  99.,  93.,  91.,  87.,  90.,  95., 100., 121., 134., 147.,\n",
       "        156., 164., 172., 184., 199., 203., 204., 205., 208., 213., 217.,\n",
       "        213., 206., 200., 195., 193., 188., 185., 181., 176., 169., 158.,\n",
       "        151., 147., 143., 143., 147., 151., 154., 153., 150., 147., 143.,\n",
       "        140., 136., 134., 136., 135., 139., 144., 150., 156., 161., 166.,\n",
       "        170., 169., 166., 161., 156., 154., 156., 159., 161., 163., 162.,\n",
       "        163., 158., 154., 149., 146., 145., 144., 141., 138., 132., 123.,\n",
       "        116., 114., 119., 124., 124., 114., 107., 105., 105., 105., 106.,\n",
       "        108., 110., 107., 101., 101., 102., 113., 115., 114., 116., 116.,\n",
       "        120., 121., 118., 117., 117., 117., 119., 114., 111., 110., 108.,\n",
       "        109., 105., 101.,  99.,  97.,  97.,  98.,  98.,  97.,  97., 100.,\n",
       "         99.,  98.,  97.,  94.,  96.,  98., 100., 102., 102., 102., 105.,\n",
       "        107., 106., 107., 109., 113., 116., 118., 120., 117., 113., 112.,\n",
       "        108., 105., 103., 104., 107., 108., 105., 116., 121., 121., 125.,\n",
       "        132., 141., 145., 143., 140., 142., 144., 150., 154., 156., 157.,\n",
       "        156., 154., 154., 156., 159., 166., 169., 168., 168., 168., 164.,\n",
       "        160., 160., 159., 178., 183., 186., 189., 188., 186., 176., 172.,\n",
       "        171., 172., 175., 176., 178., 176., 171., 168., 164., 161., 159.,\n",
       "        158., 158., 158., 155., 152., 151., 150., 148., 146., 145., 145.,\n",
       "        145., 145., 143., 138., 132., 126., 123., 122., 124., 122., 115.,\n",
       "        109., 105., 102., 103., 103., 100., 100., 100., 101., 102., 101.,\n",
       "         98.,  95.,  91.]])"
      ]
     },
     "execution_count": 15,
     "metadata": {},
     "output_type": "execute_result"
    }
   ],
   "source": [
    "testing_data = cgm_df.T.iloc[:,-400:-1].to_numpy()\n",
    "testing_data"
   ]
  },
  {
   "cell_type": "code",
   "execution_count": null,
   "metadata": {},
   "outputs": [],
   "source": [
    "model.load_weights('model_gru_static-110.h5')"
   ]
  },
  {
   "cell_type": "code",
   "execution_count": null,
   "metadata": {},
   "outputs": [],
   "source": []
  },
  {
   "cell_type": "code",
   "execution_count": null,
   "metadata": {},
   "outputs": [],
   "source": []
  },
  {
   "cell_type": "code",
   "execution_count": null,
   "metadata": {},
   "outputs": [],
   "source": [
    "scaler = pickle.load((open(os.path.join('data','scaler.pkl'), 'rb')))\n",
    "\n",
    "time_stamps = 100\n",
    "ahead_pred = 48\n",
    "org_lstm = testing_data[:,0:time_stamps]\n",
    "y_ground = testing_data[:,time_stamps:time_stamps+ahead_pred]\n",
    "\n",
    "y_pred = []\n",
    "for i in range(ahead_pred):\n",
    "#    input_lstm = get_moving_diff(org_lstm, replace_na=True)\n",
    "    input_lstm = org_lstm\n",
    "#    input_lstm = np.vectorize(rescaling)(input_lstm)\n",
    "    \n",
    "    input_static = get_static_features(org_lstm)\n",
    "    input_static = scaler.transform(input_static)\n",
    "    \n",
    "    input_lstm = np.expand_dims(input_lstm, axis=-1)\n",
    "    input_static = np.expand_dims(input_static, axis=-1)\n",
    "\n",
    "    pred = model.predict([input_lstm, input_static])[0,0]\n",
    "#     pred = rescaling(pred[0,0], newscale=(-100,100), oldscale=(-1,1))\n",
    "#     pred = org_lstm[:,-1]+pred\n",
    "#     if pred[0] > int(pred[0])+0.5:\n",
    "#         pred[0] = int(pred[0])+1.0\n",
    "#     else:\n",
    "#         pred[0] = int(pred[0])\n",
    "        \n",
    "#     y_pred.append(pred)\n",
    "#     org_lstm = np.concatenate((org_lstm[:,1:], np.expand_dims(pred, axis=0)), axis=-1)\n",
    "\n",
    "#     pred = rescaling(org_lstm[:,-1], newscale=(0,1), oldscale=(20,450)) + pred\n",
    "#     pred = rescaling(pred, newscale=(20,450), oldscale=(0,1))\n",
    "    \n",
    "#     if pred > int(pred)+0.5:\n",
    "#         pred = int(pred)+1.0\n",
    "#     else:\n",
    "#         pred = int(pred)\n",
    "    \n",
    "#     pred = np.reshape(pred, (1,1))\n",
    "#     y_pred.append(pred)\n",
    "#     org_lstm = np.concatenate((org_lstm[:,1:], pred), axis=-1)\n",
    "\n",
    "#    pred = org_lstm[:,-1] + pred\n",
    "    \n",
    "    if pred >= int(pred)+0.5:\n",
    "        pred = int(pred)+1.0\n",
    "    else:\n",
    "        pred = int(pred)+0.0\n",
    "    \n",
    "    pred = np.reshape(pred, (1,1))\n",
    "    y_pred.append(pred)\n",
    "    org_lstm = np.concatenate((org_lstm[:,1:], pred), axis=-1)"
   ]
  },
  {
   "cell_type": "code",
   "execution_count": null,
   "metadata": {},
   "outputs": [],
   "source": []
  },
  {
   "cell_type": "code",
   "execution_count": null,
   "metadata": {},
   "outputs": [],
   "source": []
  },
  {
   "cell_type": "code",
   "execution_count": 17,
   "metadata": {},
   "outputs": [
    {
     "name": "stdout",
     "output_type": "stream",
     "text": [
      "[[ 7.6123467e-03  6.0396376e-03  1.6834597e-03 -2.2901309e-05\n",
      "  -6.8222912e-04 -4.6791127e-03]]\n",
      "[231.76123467]\n",
      "[[ 0.00101852  0.00198772 -0.00149859 -0.00202    -0.00255985 -0.00644956]]\n",
      "[232.10185216]\n",
      "[[-0.00219053 -0.00023004 -0.00321653 -0.00337693 -0.00370459 -0.00762259]]\n",
      "[231.78094692]\n",
      "[[-0.00326783 -0.00114088 -0.00399556 -0.00414151 -0.00433142 -0.00820294]]\n",
      "[231.6732166]\n",
      "[[-0.00387582 -0.00171418 -0.00449733 -0.0046629  -0.00477445 -0.00847435]]\n",
      "[231.61241805]\n",
      "[[-0.00430407 -0.00210703 -0.00485108 -0.00501412 -0.00507699 -0.00857134]]\n",
      "[231.56959281]\n",
      "[[-0.00460156 -0.00240694 -0.00506272 -0.00526434 -0.00528502 -0.00854145]]\n",
      "[231.53984446]\n",
      "[[-0.00476779 -0.00260397 -0.00512971 -0.00540193 -0.00539009 -0.00837796]]\n",
      "[231.52322119]\n",
      "[[-0.00485973 -0.00270097 -0.00511393 -0.00544582 -0.00542105 -0.00814017]]\n",
      "[231.5140268]\n",
      "[[-0.00487345 -0.00274155 -0.00503899 -0.00543225 -0.00538924 -0.00786649]]\n",
      "[231.51265501]\n",
      "[[-0.00485099 -0.00272565 -0.00493965 -0.00537247 -0.00531806 -0.00758201]]\n",
      "[231.51490117]\n",
      "[[-0.00479722 -0.00267888 -0.0048102  -0.00528617 -0.00522445 -0.00728139]]\n",
      "[231.52027798]\n",
      "[[-0.00471388 -0.00260874 -0.00465148 -0.00517808 -0.00511186 -0.0069619 ]]\n",
      "[231.52861178]\n",
      "[[-0.00461193 -0.00249589 -0.00448568 -0.0050349  -0.00497172 -0.00663541]]\n",
      "[231.53880664]\n",
      "[[-0.00447496 -0.00237654 -0.00426006 -0.00487566 -0.00482154 -0.00625576]]\n",
      "[231.55250351]\n",
      "[[-0.00433146 -0.0022318  -0.00403646 -0.00469589 -0.00465533 -0.00588473]]\n",
      "[231.56685444]\n",
      "[[-0.00418296 -0.00208318 -0.00382757 -0.00451473 -0.00448088 -0.00554388]]\n",
      "[231.58170378]\n",
      "[[-0.00403462 -0.00193233 -0.00359693 -0.004331   -0.00431527 -0.00518528]]\n",
      "[231.59653779]\n",
      "[[-0.00388558 -0.00178572 -0.00338677 -0.00415657 -0.00415214 -0.00484543]]\n",
      "[231.611442]\n",
      "[[-0.00373715 -0.001658   -0.00317678 -0.00400124 -0.00400408 -0.00451165]]\n",
      "[231.62628512]\n",
      "[[-0.00359599 -0.00165171 -0.00285989 -0.00394319 -0.00395924 -0.00410532]]\n",
      "[231.64040073]\n",
      "[[-0.0034088  -0.00167357 -0.0025221  -0.00390089 -0.00390372 -0.00368859]]\n",
      "[231.65912031]\n",
      "[[-0.00326835 -0.00167781 -0.00222533 -0.0038658  -0.00387307 -0.00331088]]\n",
      "[231.67316485]\n",
      "[[-0.00314181 -0.00161793 -0.00202031 -0.00379481 -0.00380054 -0.00301631]]\n",
      "[231.68581917]\n",
      "[[-0.00305388 -0.00152699 -0.00187639 -0.00371628 -0.00372965 -0.00278013]]\n",
      "[231.69461248]\n",
      "[[-0.00295746 -0.00145015 -0.00171969 -0.00364634 -0.00366422 -0.00253728]]\n",
      "[231.70425416]\n",
      "[[-0.00286894 -0.00138964 -0.00156692 -0.00359459 -0.00361454 -0.00230896]]\n",
      "[231.71310573]\n",
      "[[-0.00276151 -0.00135896 -0.00138151 -0.00356004 -0.00357466 -0.00205888]]\n",
      "[231.72384912]\n",
      "[[-0.00272455 -0.00133652 -0.0011964  -0.00355675 -0.0036042  -0.00181159]]\n",
      "[231.72754484]\n",
      "[[-0.00299555 -0.00138456 -0.0011321  -0.00373224 -0.00390949 -0.00173344]]\n",
      "[231.70044475]\n",
      "[[-0.00293832 -0.00135973 -0.000989   -0.00374818 -0.00392174 -0.0015818 ]]\n",
      "[231.70616847]\n",
      "[[-0.00291039 -0.00133503 -0.00103515 -0.00379392 -0.00400113 -0.00154102]]\n",
      "[231.70896093]\n",
      "[[-0.00288667 -0.00130009 -0.00107779 -0.00383292 -0.00408148 -0.00149332]]\n",
      "[231.71133312]\n",
      "[[-0.00283594 -0.00124868 -0.00098975 -0.00380232 -0.00407378 -0.00137221]]\n",
      "[231.7164059]\n",
      "[[-0.00278787 -0.0011901  -0.00090951 -0.00376719 -0.00406376 -0.00125759]]\n",
      "[231.72121348]\n",
      "[[-0.00264802 -0.00123862 -0.00080623 -0.00366048 -0.00405377 -0.00109123]]\n",
      "[231.73519831]\n",
      "[[-0.00237076 -0.00142726 -0.00066358 -0.00344082 -0.00403282 -0.00083706]]\n",
      "[231.76292443]\n",
      "[[-0.00216717 -0.0015639  -0.00055141 -0.00328371 -0.00403074 -0.00064495]]\n",
      "[231.78328287]\n",
      "[[-0.00207165 -0.00159783 -0.00048131 -0.00321079 -0.00404138 -0.00053584]]\n",
      "[231.79283535]\n",
      "[[-0.0019955  -0.00162253 -0.000413   -0.00316358 -0.00406096 -0.00044299]]\n",
      "[231.80045031]\n",
      "[[-0.00191985 -0.00167373 -0.00041267 -0.00314755 -0.0041234  -0.00038864]]\n",
      "[231.80801464]\n",
      "[[-0.00180728 -0.00174557 -0.00033585 -0.00307507 -0.00414575 -0.00027891]]\n",
      "[231.81927186]\n",
      "[[-0.00165684 -0.00187825 -0.00031889 -0.0029968  -0.00420435 -0.00018238]]\n",
      "[231.83431613]\n",
      "[[-1.5429462e-03 -1.9413840e-03 -2.4640409e-04 -2.9176166e-03\n",
      "  -4.2211469e-03 -7.8290934e-05]]\n",
      "[231.84570538]\n",
      "[[-1.4872506e-03 -1.9566859e-03 -1.8650782e-04 -2.8969850e-03\n",
      "  -4.2503034e-03 -1.4849706e-05]]\n",
      "[231.85127494]\n",
      "[[-1.4714710e-03 -1.9396268e-03 -1.3694679e-04 -2.9153479e-03\n",
      "  -4.2878762e-03  1.9358471e-05]]\n",
      "[231.8528529]\n",
      "[[-1.4487682e-03 -1.9470459e-03 -9.5988740e-05 -2.9252921e-03\n",
      "  -4.3324595e-03  4.9618422e-05]]\n",
      "[231.85512318]\n",
      "[[-1.3171100e-03 -2.0483315e-03 -1.6999344e-05 -2.8452878e-03\n",
      "  -4.3596420e-03  1.5556440e-04]]\n",
      "[231.868289]\n"
     ]
    }
   ],
   "source": [
    "scaler = pickle.load((open(os.path.join('data','scaler.pkl'), 'rb')))\n",
    "\n",
    "time_stamps = 120\n",
    "ahead_pred = 48\n",
    "org_lstm = testing_data[:,0:time_stamps]\n",
    "y_ground = testing_data[:,time_stamps:time_stamps+ahead_pred]\n",
    "\n",
    "y_pred = []\n",
    "for i in range(ahead_pred):\n",
    "    input_lstm = get_moving_diff(org_lstm, replace_na=True)\n",
    "    input_lstm = np.vectorize(rescaling)(input_lstm)\n",
    "    \n",
    "    input_static = get_static_features(org_lstm)\n",
    "    input_static = scaler.transform(input_static)\n",
    "    \n",
    "    input_lstm = np.expand_dims(input_lstm, axis=-1)\n",
    "    input_static = np.expand_dims(input_static, axis=-1)\n",
    "\n",
    "    pred = model.predict([input_lstm, input_static])\n",
    "    print(pred)\n",
    "    pred = pred[0][0]\n",
    "    pred = rescaling(pred, newscale=(-100,100), oldscale=(-1,1))\n",
    "    pred = org_lstm[:,-1]+pred\n",
    "    print(pred)\n",
    "    \n",
    "    if pred > int(pred)+0.5:\n",
    "         pred = int(pred)+1.0\n",
    "    else:\n",
    "         pred = int(pred)+0.0\n",
    "    \n",
    "    pred = np.reshape(pred, (1,1))\n",
    "    y_pred.append(pred)\n",
    "    org_lstm = np.concatenate((org_lstm[:,1:], pred), axis=-1)"
   ]
  },
  {
   "cell_type": "code",
   "execution_count": null,
   "metadata": {},
   "outputs": [],
   "source": []
  },
  {
   "cell_type": "code",
   "execution_count": null,
   "metadata": {},
   "outputs": [],
   "source": [
    "np.save('gru_static_good.npy',y_pred)"
   ]
  },
  {
   "cell_type": "code",
   "execution_count": null,
   "metadata": {},
   "outputs": [],
   "source": []
  }
 ],
 "metadata": {
  "kernelspec": {
   "display_name": "Python 3",
   "language": "python",
   "name": "python3"
  },
  "language_info": {
   "codemirror_mode": {
    "name": "ipython",
    "version": 3
   },
   "file_extension": ".py",
   "mimetype": "text/x-python",
   "name": "python",
   "nbconvert_exporter": "python",
   "pygments_lexer": "ipython3",
   "version": "3.7.7"
  }
 },
 "nbformat": 4,
 "nbformat_minor": 4
}
