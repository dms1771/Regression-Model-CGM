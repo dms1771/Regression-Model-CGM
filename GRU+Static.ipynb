{
 "cells": [
  {
   "cell_type": "markdown",
   "metadata": {},
   "source": [
    "------------\n",
    "# Importing Necessary Libraries"
   ]
  },
  {
   "cell_type": "code",
   "execution_count": 10,
   "metadata": {},
   "outputs": [],
   "source": [
    "import numpy as np\n",
    "import pandas as pd\n",
    "import matplotlib.pyplot as plt\n",
    "import os\n",
    "import keras\n",
    "import tensorflow as tf\n",
    "import pickle\n",
    "\n",
    "from tensorflow.keras import models, layers\n",
    "from keras.callbacks import ModelCheckpoint\n",
    "from tensorflow.python.client import device_lib\n",
    "from sklearn.preprocessing import StandardScaler\n",
    "\n",
    "from ipynb.fs.full.PreProcessing import get_moving_diff, rescaling, get_static_features"
   ]
  },
  {
   "cell_type": "code",
   "execution_count": 11,
   "metadata": {},
   "outputs": [
    {
     "name": "stdout",
     "output_type": "stream",
     "text": [
      "[name: \"/device:CPU:0\"\n",
      "device_type: \"CPU\"\n",
      "memory_limit: 268435456\n",
      "locality {\n",
      "}\n",
      "incarnation: 1345165562400034908\n",
      "]\n"
     ]
    }
   ],
   "source": [
    "print(device_lib.list_local_devices())\n",
    "config = tf.ConfigProto( device_count = {'GPU': 1} ) \n",
    "sess = tf.Session(config=config) \n",
    "keras.backend.set_session(sess)"
   ]
  },
  {
   "cell_type": "markdown",
   "metadata": {},
   "source": [
    "---------------\n",
    "# Loading Data into System"
   ]
  },
  {
   "cell_type": "code",
   "execution_count": 12,
   "metadata": {},
   "outputs": [],
   "source": [
    "x_lstm_train = np.load(os.path.join('data', 'x_lstm_train.npy'))\n",
    "x_lstm_test = np.load(os.path.join('data', 'x_lstm_test.npy'))\n",
    "\n",
    "x_static_train = np.load(os.path.join('data', 'x_static_train.npy'))\n",
    "x_static_test = np.load(os.path.join('data', 'x_static_test.npy'))\n",
    "\n",
    "y_train = np.load(os.path.join('data', 'y_train.npy'))\n",
    "y_test = np.load(os.path.join('data', 'y_test.npy'))"
   ]
  },
  {
   "cell_type": "code",
   "execution_count": 13,
   "metadata": {},
   "outputs": [
    {
     "name": "stdout",
     "output_type": "stream",
     "text": [
      "(35776, 120) (8944, 120)\n",
      "(35776, 12) (8944, 12)\n",
      "(35776, 6) (8944, 6)\n"
     ]
    }
   ],
   "source": [
    "print(x_lstm_train.shape, x_lstm_test.shape)\n",
    "print(x_static_train.shape, x_static_test.shape)\n",
    "print(y_train.shape, y_test.shape)"
   ]
  },
  {
   "cell_type": "code",
   "execution_count": null,
   "metadata": {},
   "outputs": [],
   "source": []
  },
  {
   "cell_type": "markdown",
   "metadata": {},
   "source": [
    "# Re-Structuring the data"
   ]
  },
  {
   "cell_type": "code",
   "execution_count": 14,
   "metadata": {},
   "outputs": [],
   "source": [
    "x_lstm_train = np.expand_dims(x_lstm_train, axis=-1)\n",
    "x_lstm_test = np.expand_dims(x_lstm_test, axis=-1)\n",
    "\n",
    "x_static_train = np.expand_dims(x_static_train, axis=-1)\n",
    "x_static_test = np.expand_dims(x_static_test, axis=-1)"
   ]
  },
  {
   "cell_type": "code",
   "execution_count": 15,
   "metadata": {},
   "outputs": [
    {
     "name": "stdout",
     "output_type": "stream",
     "text": [
      "(35776, 120, 1) (8944, 120, 1)\n",
      "(35776, 12, 1) (8944, 12, 1)\n",
      "(35776, 6) (8944, 6)\n"
     ]
    }
   ],
   "source": [
    "print(x_lstm_train.shape, x_lstm_test.shape)\n",
    "print(x_static_train.shape, x_static_test.shape)\n",
    "print(y_train.shape, y_test.shape)"
   ]
  },
  {
   "cell_type": "code",
   "execution_count": null,
   "metadata": {},
   "outputs": [],
   "source": []
  },
  {
   "cell_type": "markdown",
   "metadata": {},
   "source": [
    "# Model Creation"
   ]
  },
  {
   "cell_type": "code",
   "execution_count": 16,
   "metadata": {},
   "outputs": [],
   "source": [
    "def r_square(y_true, y_pred):\n",
    "    from keras import backend as K\n",
    "    SS_res =  K.sum(K.square(y_true - y_pred)) \n",
    "    SS_tot = K.sum(K.square(y_true - K.mean(y_true))) \n",
    "    return ( 1 - SS_res/(SS_tot + K.epsilon()) )"
   ]
  },
  {
   "cell_type": "code",
   "execution_count": 17,
   "metadata": {},
   "outputs": [
    {
     "name": "stdout",
     "output_type": "stream",
     "text": [
      "WARNING:tensorflow:From c:\\users\\yrvak\\appdata\\local\\programs\\python\\python37\\lib\\site-packages\\tensorflow_core\\python\\ops\\resource_variable_ops.py:1630: calling BaseResourceVariable.__init__ (from tensorflow.python.ops.resource_variable_ops) with constraint is deprecated and will be removed in a future version.\n",
      "Instructions for updating:\n",
      "If using Keras pass *_constraint arguments to layers.\n",
      "Model: \"model\"\n",
      "__________________________________________________________________________________________________\n",
      "Layer (type)                    Output Shape         Param #     Connected to                     \n",
      "==================================================================================================\n",
      "input_1 (InputLayer)            [(None, 120, 1)]     0                                            \n",
      "__________________________________________________________________________________________________\n",
      "gru (GRU)                       [(None, 120, 120), ( 43920       input_1[0][0]                    \n",
      "__________________________________________________________________________________________________\n",
      "input_2 (InputLayer)            [(None, 12, 1)]      0                                            \n",
      "__________________________________________________________________________________________________\n",
      "dropout (Dropout)               (None, 120, 120)     0           gru[0][0]                        \n",
      "__________________________________________________________________________________________________\n",
      "dense (Dense)                   (None, 12, 2)        4           input_2[0][0]                    \n",
      "__________________________________________________________________________________________________\n",
      "gru_1 (GRU)                     [(None, 120, 120), ( 86760       dropout[0][0]                    \n",
      "__________________________________________________________________________________________________\n",
      "flatten (Flatten)               (None, 24)           0           dense[0][0]                      \n",
      "__________________________________________________________________________________________________\n",
      "concatenate (Concatenate)       (None, 264)          0           gru[0][1]                        \n",
      "                                                                 gru_1[0][1]                      \n",
      "                                                                 flatten[0][0]                    \n",
      "__________________________________________________________________________________________________\n",
      "dropout_1 (Dropout)             (None, 264)          0           concatenate[0][0]                \n",
      "__________________________________________________________________________________________________\n",
      "dense_1 (Dense)                 (None, 64)           16960       dropout_1[0][0]                  \n",
      "__________________________________________________________________________________________________\n",
      "dropout_2 (Dropout)             (None, 64)           0           dense_1[0][0]                    \n",
      "__________________________________________________________________________________________________\n",
      "dense_2 (Dense)                 (None, 16)           1040        dropout_2[0][0]                  \n",
      "__________________________________________________________________________________________________\n",
      "dropout_3 (Dropout)             (None, 16)           0           dense_2[0][0]                    \n",
      "__________________________________________________________________________________________________\n",
      "dense_3 (Dense)                 (None, 6)            102         dropout_3[0][0]                  \n",
      "==================================================================================================\n",
      "Total params: 148,786\n",
      "Trainable params: 148,786\n",
      "Non-trainable params: 0\n",
      "__________________________________________________________________________________________________\n"
     ]
    }
   ],
   "source": [
    "# 32, 16, 30 \n",
    "model = keras.Sequential()\n",
    "\n",
    "lstm_input = layers.Input(shape=(x_lstm_train.shape[1], x_lstm_train.shape[2]))\n",
    "static_input = layers.Input(shape=(x_static_train.shape[1], x_static_train.shape[2]))\n",
    "\n",
    "lstm_stack_1, lstm_stack_1_c = layers.GRU(120, return_sequences=True, return_state=True)(lstm_input)\n",
    "drop_lstm_1 = layers.Dropout(0.05)(lstm_stack_1)\n",
    "\n",
    "lstm_stack_2, lstm_stack_2_c = layers.GRU(120, return_sequences=True, return_state=True)(drop_lstm_1)\n",
    "\n",
    "static_dense = layers.Dense(2)(static_input)\n",
    "static_flatten = layers.Flatten()(static_dense)\n",
    "\n",
    "concatenate = layers.Concatenate()([lstm_stack_1_c, lstm_stack_2_c, static_flatten])\n",
    "\n",
    "\n",
    "drop_2 = layers.Dropout(0.1)(concatenate)\n",
    "dense_1 = layers.Dense(64)(drop_2)\n",
    "drop_3 = layers.Dropout(0.05)(dense_1)\n",
    "dense_2 = layers.Dense(16)(drop_3)\n",
    "drop_4 = layers.Dropout(0.02)(dense_2)\n",
    "\n",
    "output = layers.Dense(6)(drop_4)\n",
    "\n",
    "\n",
    "model = models.Model(inputs=[lstm_input, static_input], outputs=output)\n",
    "model.summary()\n",
    "model.compile(\n",
    "    loss='mse', \n",
    "    optimizer='adam', \n",
    "    metrics=[r_square,'mae']\n",
    ")"
   ]
  },
  {
   "cell_type": "code",
   "execution_count": null,
   "metadata": {},
   "outputs": [],
   "source": [
    "filepath = \"model_gru_static-{epoch:03d}.h5\"\n",
    "checkpoint = ModelCheckpoint(filepath, monitor='r_square', verbose=1,\n",
    "    save_best_only=False, save_weights_only=True, mode='auto', period=1)\n",
    "\n",
    "history = model.fit(\n",
    "    [x_lstm_train, x_static_train], y_train,\n",
    "    epochs=120,\n",
    "    batch_size=48,\n",
    "    verbose=1,\n",
    "    validation_data=([x_lstm_test, x_static_test], y_test),\n",
    "    shuffle=True,\n",
    "    callbacks=[checkpoint]\n",
    ")"
   ]
  },
  {
   "cell_type": "code",
   "execution_count": null,
   "metadata": {},
   "outputs": [],
   "source": []
  },
  {
   "cell_type": "code",
   "execution_count": null,
   "metadata": {},
   "outputs": [],
   "source": []
  },
  {
   "cell_type": "code",
   "execution_count": null,
   "metadata": {},
   "outputs": [],
   "source": [
    "print(history.history.keys())\n",
    "\n",
    "# Loss\n",
    "plt.plot(history.history['loss'][1:])\n",
    "plt.title('mse')\n",
    "plt.ylabel('loss')\n",
    "plt.xlabel('epoch')\n",
    "plt.legend(['train'], loc='upper right')\n",
    "plt.show()\n",
    "\n",
    "# Loss\n",
    "plt.plot(history.history['r_square'][3:])\n",
    "plt.title('r_square')\n",
    "plt.ylabel('loss')\n",
    "plt.xlabel('epoch')\n",
    "plt.legend(['train'], loc='upper right')\n",
    "plt.show()"
   ]
  },
  {
   "cell_type": "code",
   "execution_count": null,
   "metadata": {},
   "outputs": [],
   "source": []
  },
  {
   "cell_type": "code",
   "execution_count": null,
   "metadata": {},
   "outputs": [],
   "source": [
    "model.save(os.path.join('data','model_gru_static.h5'))"
   ]
  },
  {
   "cell_type": "code",
   "execution_count": null,
   "metadata": {},
   "outputs": [],
   "source": []
  },
  {
   "cell_type": "markdown",
   "metadata": {},
   "source": [
    "# Testing Prediction sequence"
   ]
  },
  {
   "cell_type": "code",
   "execution_count": 18,
   "metadata": {},
   "outputs": [],
   "source": [
    "cgm_df = pd.read_csv(os.path.join('data','CGMData.csv')).T"
   ]
  },
  {
   "cell_type": "code",
   "execution_count": 19,
   "metadata": {},
   "outputs": [
    {
     "data": {
      "text/plain": [
       "array([[143., 145., 146., 146., 147., 149., 150., 155., 163., 167., 169.,\n",
       "        170., 171., 173., 180., 187., 190., 182., 177., 173., 161., 153.,\n",
       "        143., 140., 141., 139., 140., 142., 130., 110., 110., 112., 117.,\n",
       "        118., 116., 115., 114., 114., 114., 114., 115., 115., 116., 117.,\n",
       "        118., 119., 119., 120., 120., 121., 121., 120., 120., 120., 122.,\n",
       "        123., 123., 123., 122., 123., 124., 125., 126., 126., 125., 124.,\n",
       "        123., 123., 123., 122., 120., 117., 116., 116., 117., 118., 118.,\n",
       "        119., 120., 121., 122., 124., 124., 124., 125., 125., 125., 125.,\n",
       "        124., 122., 121., 119., 118., 119., 123., 132., 139., 142., 144.,\n",
       "        146., 148., 152., 156., 158., 159., 159., 161., 166., 173., 181.,\n",
       "        192., 202., 207., 208., 210., 212., 217., 221., 226., 231., 235.,\n",
       "        239., 241., 244., 241., 239., 235., 228., 221., 213., 205., 199.,\n",
       "        194., 185., 177., 171., 168., 167., 161., 154., 149., 150., 153.,\n",
       "        154., 145., 135., 127., 123., 121., 121., 123., 125., 127., 127.,\n",
       "        128., 130., 133., 133., 128., 125., 120., 118., 123., 123., 118.,\n",
       "        112.,  99.,  93.,  91.,  87.,  90.,  95., 100., 121., 134., 147.,\n",
       "        156., 164., 172., 184., 199., 203., 204., 205., 208., 213., 217.,\n",
       "        213., 206., 200., 195., 193., 188., 185., 181., 176., 169., 158.,\n",
       "        151., 147., 143., 143., 147., 151., 154., 153., 150., 147., 143.,\n",
       "        140., 136., 134., 136., 135., 139., 144., 150., 156., 161., 166.,\n",
       "        170., 169., 166., 161., 156., 154., 156., 159., 161., 163., 162.,\n",
       "        163., 158., 154., 149., 146., 145., 144., 141., 138., 132., 123.,\n",
       "        116., 114., 119., 124., 124., 114., 107., 105., 105., 105., 106.,\n",
       "        108., 110., 107., 101., 101., 102., 113., 115., 114., 116., 116.,\n",
       "        120., 121., 118., 117., 117., 117., 119., 114., 111., 110., 108.,\n",
       "        109., 105., 101.,  99.,  97.,  97.,  98.,  98.,  97.,  97., 100.,\n",
       "         99.,  98.,  97.,  94.,  96.,  98., 100., 102., 102., 102., 105.,\n",
       "        107., 106., 107., 109., 113., 116., 118., 120., 117., 113., 112.,\n",
       "        108., 105., 103., 104., 107., 108., 105., 116., 121., 121., 125.,\n",
       "        132., 141., 145., 143., 140., 142., 144., 150., 154., 156., 157.,\n",
       "        156., 154., 154., 156., 159., 166., 169., 168., 168., 168., 164.,\n",
       "        160., 160., 159., 178., 183., 186., 189., 188., 186., 176., 172.,\n",
       "        171., 172., 175., 176., 178., 176., 171., 168., 164., 161., 159.,\n",
       "        158., 158., 158., 155., 152., 151., 150., 148., 146., 145., 145.,\n",
       "        145., 145., 143., 138., 132., 126., 123., 122., 124., 122., 115.,\n",
       "        109., 105., 102., 103., 103., 100., 100., 100., 101., 102., 101.,\n",
       "         98.,  95.,  91.]])"
      ]
     },
     "execution_count": 19,
     "metadata": {},
     "output_type": "execute_result"
    }
   ],
   "source": [
    "testing_data = cgm_df.T.iloc[:,-400:-1].to_numpy()\n",
    "testing_data"
   ]
  },
  {
   "cell_type": "code",
   "execution_count": 20,
   "metadata": {},
   "outputs": [],
   "source": [
    "model.load_weights('model_gru_static-110.h5')"
   ]
  },
  {
   "cell_type": "code",
   "execution_count": null,
   "metadata": {},
   "outputs": [],
   "source": []
  },
  {
   "cell_type": "code",
   "execution_count": null,
   "metadata": {},
   "outputs": [],
   "source": []
  },
  {
   "cell_type": "code",
   "execution_count": null,
   "metadata": {},
   "outputs": [],
   "source": [
    "scaler = pickle.load((open(os.path.join('data','scaler.pkl'), 'rb')))\n",
    "\n",
    "time_stamps = 100\n",
    "ahead_pred = 48\n",
    "org_lstm = testing_data[:,0:time_stamps]\n",
    "y_ground = testing_data[:,time_stamps:time_stamps+ahead_pred]\n",
    "\n",
    "y_pred = []\n",
    "for i in range(ahead_pred):\n",
    "#    input_lstm = get_moving_diff(org_lstm, replace_na=True)\n",
    "    input_lstm = org_lstm\n",
    "#    input_lstm = np.vectorize(rescaling)(input_lstm)\n",
    "    \n",
    "    input_static = get_static_features(org_lstm)\n",
    "    input_static = scaler.transform(input_static)\n",
    "    \n",
    "    input_lstm = np.expand_dims(input_lstm, axis=-1)\n",
    "    input_static = np.expand_dims(input_static, axis=-1)\n",
    "\n",
    "    pred = model.predict([input_lstm, input_static])[0,0]\n",
    "#     pred = rescaling(pred[0,0], newscale=(-100,100), oldscale=(-1,1))\n",
    "#     pred = org_lstm[:,-1]+pred\n",
    "#     if pred[0] > int(pred[0])+0.5:\n",
    "#         pred[0] = int(pred[0])+1.0\n",
    "#     else:\n",
    "#         pred[0] = int(pred[0])\n",
    "        \n",
    "#     y_pred.append(pred)\n",
    "#     org_lstm = np.concatenate((org_lstm[:,1:], np.expand_dims(pred, axis=0)), axis=-1)\n",
    "\n",
    "#     pred = rescaling(org_lstm[:,-1], newscale=(0,1), oldscale=(20,450)) + pred\n",
    "#     pred = rescaling(pred, newscale=(20,450), oldscale=(0,1))\n",
    "    \n",
    "#     if pred > int(pred)+0.5:\n",
    "#         pred = int(pred)+1.0\n",
    "#     else:\n",
    "#         pred = int(pred)\n",
    "    \n",
    "#     pred = np.reshape(pred, (1,1))\n",
    "#     y_pred.append(pred)\n",
    "#     org_lstm = np.concatenate((org_lstm[:,1:], pred), axis=-1)\n",
    "\n",
    "#    pred = org_lstm[:,-1] + pred\n",
    "    \n",
    "    if pred >= int(pred)+0.5:\n",
    "        pred = int(pred)+1.0\n",
    "    else:\n",
    "        pred = int(pred)+0.0\n",
    "    \n",
    "    pred = np.reshape(pred, (1,1))\n",
    "    y_pred.append(pred)\n",
    "    org_lstm = np.concatenate((org_lstm[:,1:], pred), axis=-1)"
   ]
  },
  {
   "cell_type": "code",
   "execution_count": null,
   "metadata": {},
   "outputs": [],
   "source": []
  },
  {
   "cell_type": "code",
   "execution_count": null,
   "metadata": {},
   "outputs": [],
   "source": []
  },
  {
   "cell_type": "code",
   "execution_count": 21,
   "metadata": {},
   "outputs": [],
   "source": [
    "scaler = pickle.load((open(os.path.join('data','scaler.pkl'), 'rb')))\n",
    "\n",
    "time_stamps = 120\n",
    "ahead_pred = 48\n",
    "org_lstm = testing_data[:,0:time_stamps]\n",
    "y_ground = testing_data[:,time_stamps:time_stamps+ahead_pred]\n",
    "\n",
    "y_pred = []\n",
    "for i in range(ahead_pred):\n",
    "    input_lstm = get_moving_diff(org_lstm, replace_na=True)\n",
    "    input_lstm = np.vectorize(rescaling)(input_lstm)\n",
    "    \n",
    "    input_static = get_static_features(org_lstm)\n",
    "    input_static = scaler.transform(input_static)\n",
    "    \n",
    "    input_lstm = np.expand_dims(input_lstm, axis=-1)\n",
    "    input_static = np.expand_dims(input_static, axis=-1)\n",
    "\n",
    "    pred = model.predict([input_lstm, input_static])\n",
    "    \n",
    "    pred = pred[0][0]\n",
    "    pred = rescaling(pred, newscale=(-100,100), oldscale=(-1,1))\n",
    "    pred = org_lstm[:,-1]+pred\n",
    "    \n",
    "    if pred > int(pred)+0.5:\n",
    "         pred = int(pred)+1.0\n",
    "    else:\n",
    "         pred = int(pred)+0.0\n",
    "    \n",
    "    pred = np.reshape(pred, (1,1))\n",
    "    y_pred.append(pred)\n",
    "    org_lstm = np.concatenate((org_lstm[:,1:], pred), axis=-1)"
   ]
  },
  {
   "cell_type": "code",
   "execution_count": null,
   "metadata": {},
   "outputs": [],
   "source": []
  },
  {
   "cell_type": "code",
   "execution_count": 22,
   "metadata": {},
   "outputs": [],
   "source": [
    "np.save('gru_static_good.npy',y_pred)"
   ]
  },
  {
   "cell_type": "code",
   "execution_count": null,
   "metadata": {},
   "outputs": [],
   "source": []
  }
 ],
 "metadata": {
  "kernelspec": {
   "display_name": "Python 3",
   "language": "python",
   "name": "python3"
  },
  "language_info": {
   "codemirror_mode": {
    "name": "ipython",
    "version": 3
   },
   "file_extension": ".py",
   "mimetype": "text/x-python",
   "name": "python",
   "nbconvert_exporter": "python",
   "pygments_lexer": "ipython3",
   "version": "3.7.7"
  }
 },
 "nbformat": 4,
 "nbformat_minor": 4
}
